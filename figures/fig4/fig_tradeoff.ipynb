{
 "cells": [
  {
   "cell_type": "code",
   "execution_count": 6,
   "metadata": {},
   "outputs": [
    {
     "data": {
      "text/html": [
       "<div>\n",
       "<style scoped>\n",
       "    .dataframe tbody tr th:only-of-type {\n",
       "        vertical-align: middle;\n",
       "    }\n",
       "\n",
       "    .dataframe tbody tr th {\n",
       "        vertical-align: top;\n",
       "    }\n",
       "\n",
       "    .dataframe thead th {\n",
       "        text-align: right;\n",
       "    }\n",
       "</style>\n",
       "<table border=\"1\" class=\"dataframe\">\n",
       "  <thead>\n",
       "    <tr style=\"text-align: right;\">\n",
       "      <th></th>\n",
       "      <th>objective</th>\n",
       "      <th>sweeper</th>\n",
       "      <th>direction</th>\n",
       "      <th>search_space</th>\n",
       "      <th>overrides</th>\n",
       "      <th>best_params</th>\n",
       "      <th>best_value</th>\n",
       "    </tr>\n",
       "  </thead>\n",
       "  <tbody>\n",
       "    <tr>\n",
       "      <th>0</th>\n",
       "      <td>['rob_value', 'test_loss']</td>\n",
       "      <td>tpe_multi_objective</td>\n",
       "      <td>['minimize', 'minimize']</td>\n",
       "      <td>['defense.params.beta=interval(0.0000001,20.)']</td>\n",
       "      <td>['defense=fisher_trace', 'task=sir', 'eval_rob...</td>\n",
       "      <td>[{'defense.params.beta': 12.91788229674371}, {...</td>\n",
       "      <td>[[0.000991368549875915, 3.6150431632995605], [...</td>\n",
       "    </tr>\n",
       "    <tr>\n",
       "      <th>1</th>\n",
       "      <td>['rob_value', 'test_loss']</td>\n",
       "      <td>tpe_multi_objective</td>\n",
       "      <td>['minimize', 'minimize']</td>\n",
       "      <td>['defense.params.beta=interval(0.0000001,20.)']</td>\n",
       "      <td>['defense=fisher_trace', 'task=lotka_volterra'...</td>\n",
       "      <td>[{'defense.params.beta': 10.976270123665143}, ...</td>\n",
       "      <td>[[0.00036017788806930184, 2.515634298324585], ...</td>\n",
       "    </tr>\n",
       "    <tr>\n",
       "      <th>2</th>\n",
       "      <td>['rob_value', 'test_loss']</td>\n",
       "      <td>tpe_multi_objective</td>\n",
       "      <td>['minimize', 'minimize']</td>\n",
       "      <td>['defense.params.beta=interval(0.0000001,20.)']</td>\n",
       "      <td>['defense=fisher_trace', 'task=vae_task', 'eva...</td>\n",
       "      <td>[{'defense.params.beta': 19.27325521365431}, {...</td>\n",
       "      <td>[[0.000651144131552428, 3.2256019115448], [0.0...</td>\n",
       "    </tr>\n",
       "    <tr>\n",
       "      <th>3</th>\n",
       "      <td>['rob_value', 'test_loss']</td>\n",
       "      <td>tpe_multi_objective</td>\n",
       "      <td>['minimize', 'minimize']</td>\n",
       "      <td>['defense.params.beta=interval(0.0000001,20.)']</td>\n",
       "      <td>['defense=fisher_trace', 'task=spatial_sir', '...</td>\n",
       "      <td>[{'defense.params.beta': 8.751744281495128}, {...</td>\n",
       "      <td>[[0.00033004253054969013, 1.1331864595413208],...</td>\n",
       "    </tr>\n",
       "    <tr>\n",
       "      <th>4</th>\n",
       "      <td>['rob_value', 'test_loss']</td>\n",
       "      <td>tpe_multi_objective</td>\n",
       "      <td>['minimize', 'minimize']</td>\n",
       "      <td>['defense.params.beta=interval(0.0000001,20.)']</td>\n",
       "      <td>['defense=fisher_trace', 'task=gaussian_linear...</td>\n",
       "      <td>[{'defense.params.beta': 10.976270123665143}, ...</td>\n",
       "      <td>[[0.01718483492732048, 13.201838493347168], [0...</td>\n",
       "    </tr>\n",
       "    <tr>\n",
       "      <th>5</th>\n",
       "      <td>['rob_value', 'test_loss']</td>\n",
       "      <td>tpe_multi_objective</td>\n",
       "      <td>['minimize', 'minimize']</td>\n",
       "      <td>['defense.params.beta=interval(0.0000001,20.)']</td>\n",
       "      <td>['defense=fisher_trace', 'task=hudgkin_huxley'...</td>\n",
       "      <td>[{'defense.params.beta': 0.6608564782811595}, ...</td>\n",
       "      <td>[[3063.689453125, 3.3763034343719482], [1018.9...</td>\n",
       "    </tr>\n",
       "  </tbody>\n",
       "</table>\n",
       "</div>"
      ],
      "text/plain": [
       "                    objective              sweeper                 direction  \\\n",
       "0  ['rob_value', 'test_loss']  tpe_multi_objective  ['minimize', 'minimize']   \n",
       "1  ['rob_value', 'test_loss']  tpe_multi_objective  ['minimize', 'minimize']   \n",
       "2  ['rob_value', 'test_loss']  tpe_multi_objective  ['minimize', 'minimize']   \n",
       "3  ['rob_value', 'test_loss']  tpe_multi_objective  ['minimize', 'minimize']   \n",
       "4  ['rob_value', 'test_loss']  tpe_multi_objective  ['minimize', 'minimize']   \n",
       "5  ['rob_value', 'test_loss']  tpe_multi_objective  ['minimize', 'minimize']   \n",
       "\n",
       "                                      search_space  \\\n",
       "0  ['defense.params.beta=interval(0.0000001,20.)']   \n",
       "1  ['defense.params.beta=interval(0.0000001,20.)']   \n",
       "2  ['defense.params.beta=interval(0.0000001,20.)']   \n",
       "3  ['defense.params.beta=interval(0.0000001,20.)']   \n",
       "4  ['defense.params.beta=interval(0.0000001,20.)']   \n",
       "5  ['defense.params.beta=interval(0.0000001,20.)']   \n",
       "\n",
       "                                           overrides  \\\n",
       "0  ['defense=fisher_trace', 'task=sir', 'eval_rob...   \n",
       "1  ['defense=fisher_trace', 'task=lotka_volterra'...   \n",
       "2  ['defense=fisher_trace', 'task=vae_task', 'eva...   \n",
       "3  ['defense=fisher_trace', 'task=spatial_sir', '...   \n",
       "4  ['defense=fisher_trace', 'task=gaussian_linear...   \n",
       "5  ['defense=fisher_trace', 'task=hudgkin_huxley'...   \n",
       "\n",
       "                                         best_params  \\\n",
       "0  [{'defense.params.beta': 12.91788229674371}, {...   \n",
       "1  [{'defense.params.beta': 10.976270123665143}, ...   \n",
       "2  [{'defense.params.beta': 19.27325521365431}, {...   \n",
       "3  [{'defense.params.beta': 8.751744281495128}, {...   \n",
       "4  [{'defense.params.beta': 10.976270123665143}, ...   \n",
       "5  [{'defense.params.beta': 0.6608564782811595}, ...   \n",
       "\n",
       "                                          best_value  \n",
       "0  [[0.000991368549875915, 3.6150431632995605], [...  \n",
       "1  [[0.00036017788806930184, 2.515634298324585], ...  \n",
       "2  [[0.000651144131552428, 3.2256019115448], [0.0...  \n",
       "3  [[0.00033004253054969013, 1.1331864595413208],...  \n",
       "4  [[0.01718483492732048, 13.201838493347168], [0...  \n",
       "5  [[3063.689453125, 3.3763034343719482], [1018.9...  "
      ]
     },
     "execution_count": 6,
     "metadata": {},
     "output_type": "execute_result"
    }
   ],
   "source": [
    "from rbibm.plots.sweep_plots import plot_mulitobjective_paretto_front,plot_biobjective_singleparameter\n",
    "from rbibm.utils.utils_data import get_sweep_dataset, query, query_main, query_rob_metric\n",
    "from rbibm.plots.styles import use_style\n",
    "import matplotlib.pyplot as plt\n",
    "import matplotlib.colors as colors\n",
    "import pandas as pd\n",
    "name = \"main_sweeps\"\n",
    "df = get_sweep_dataset(name)\n",
    "df"
   ]
  },
  {
   "cell_type": "code",
   "execution_count": 2,
   "metadata": {},
   "outputs": [],
   "source": [
    "import torch"
   ]
  },
  {
   "cell_type": "code",
   "execution_count": 3,
   "metadata": {},
   "outputs": [],
   "source": [
    "vmin = 0.0001\n",
    "vmax = 20"
   ]
  },
  {
   "cell_type": "code",
   "execution_count": 4,
   "metadata": {},
   "outputs": [],
   "source": [
    "figsize_col=2.05\n",
    "figsize_row_expected_cov = 2.\n",
    "figsize_row_rob = 1.8"
   ]
  },
  {
   "cell_type": "code",
   "execution_count": 23,
   "metadata": {},
   "outputs": [
    {
     "name": "stdout",
     "output_type": "stream",
     "text": [
      "Sweeper: tpe_multi_objective\n",
      "Overrides: ['defense=fisher_trace', 'task=gaussian_linear', 'eval_rob.eps=2.0', 'model=maf_pyro', 'train.N_train=100000', 'train.N_test=10000', 'run_eval_approx=False']\n"
     ]
    },
    {
     "data": {
      "image/png": "[encoded data removed]",
      "text/plain": [
       "<Figure size 154.8x147.6 with 1 Axes>"
      ]
     },
     "metadata": {},
     "output_type": "display_data"
    }
   ],
   "source": [
    "with use_style(\"pyloric\"):\n",
    "    fig,axes = plot_biobjective_singleparameter(name, 4, figsize=(figsize_col + 0.1,figsize_col), color_label=\"$\\\\beta$\", cmap=\"tab20c\", vmin=vmin,vmax=vmax, color_bar=False)\n",
    "    axes.set_ylabel(\"Average NLL\")\n",
    "    axes.set_xlabel(\"$D_{KL}(q||\\\\tilde{q})$\")\n",
    "    #axes.set_title(\"VAE\")\n",
    "    #axes.set_xlim(-1,20)\n",
    "    axes.set_xticks([0,100,200])\n",
    "    plt.show()\n",
    "    fig.savefig(\"gl_tradeoff.svg\", transparent=True)"
   ]
  },
  {
   "cell_type": "code",
   "execution_count": 24,
   "metadata": {},
   "outputs": [
    {
     "name": "stdout",
     "output_type": "stream",
     "text": [
      "Sweeper: tpe_multi_objective\n",
      "Overrides: ['defense=fisher_trace', 'task=vae_task', 'eval_rob.eps=2.0', 'model=maf_pyro', 'model/embedding_net=mlp', 'train.N_train=100000', 'train.N_test=10000', 'run_eval_approx=False']\n"
     ]
    },
    {
     "data": {
      "image/png": "[encoded data removed]",
      "text/plain": [
       "<Figure size 154.8x147.6 with 1 Axes>"
      ]
     },
     "metadata": {},
     "output_type": "display_data"
    }
   ],
   "source": [
    "with use_style(\"pyloric\"):\n",
    "    fig,axes = plot_biobjective_singleparameter(name, 2, figsize=(figsize_col + 0.1,figsize_col), color_label=\"$\\\\beta$\", cmap=\"tab20c\", vmin=vmin,vmax=vmax, color_bar=False)\n",
    "    axes.set_ylabel(None)\n",
    "    axes.set_xlabel(\"$D_{KL}(q||\\\\tilde{q})$\")\n",
    "    #axes.set_title(\"VAE\")\n",
    "    #axes.set_xlim(-2,40)\n",
    "    plt.show()\n",
    "    fig.savefig(\"vae_tradeoff.svg\", transparent=True)"
   ]
  },
  {
   "cell_type": "code",
   "execution_count": 25,
   "metadata": {},
   "outputs": [
    {
     "name": "stdout",
     "output_type": "stream",
     "text": [
      "Sweeper: tpe_multi_objective\n",
      "Overrides: ['defense=fisher_trace', 'task=lotka_volterra', 'eval_rob.eps=2.0', 'model=maf_pyro', 'train.N_train=100000', 'train.N_test=10000', 'run_eval_approx=False']\n"
     ]
    },
    {
     "data": {
      "image/png": "[encoded data removed]",
      "text/plain": [
       "<Figure size 154.8x147.6 with 1 Axes>"
      ]
     },
     "metadata": {},
     "output_type": "display_data"
    }
   ],
   "source": [
    "with use_style(\"pyloric\"):\n",
    "    fig,axes = plot_biobjective_singleparameter(name, 1, figsize=(figsize_col +0.1,figsize_col), color_label=\"$\\\\beta$\", cmap=\"tab20c\", vmin=vmin, vmax=vmax, color_bar=False)\n",
    "    #axes.set_ylabel(\"$\\\\mathbb{E}_{p(\\\\theta,x)} [ -\\\\log q_\\\\phi(\\\\theta|x) ]$\")\n",
    "    axes.set_ylabel(None)\n",
    "    axes.set_xlabel(\"$D_{KL}(q||\\\\tilde{q})$\")\n",
    "    #axes.set_title(\"Lotka volterra\")\n",
    "    #axes.set_xlim(0, 2)\n",
    "    #axes.set_xticks([0.,1.,2.])\n",
    "    plt.show()\n",
    "    fig.savefig(\"lv_tradeoff.svg\", transparent=True)"
   ]
  },
  {
   "cell_type": "code",
   "execution_count": 32,
   "metadata": {},
   "outputs": [
    {
     "name": "stdout",
     "output_type": "stream",
     "text": [
      "Sweeper: tpe_multi_objective\n",
      "Overrides: ['defense=fisher_trace', 'task=sir', 'eval_rob.eps=2.0', 'model=maf_pyro', 'train.N_train=100000', 'train.N_test=10000', 'run_eval_approx=False']\n"
     ]
    },
    {
     "data": {
      "image/png": "[encoded data removed]",
      "text/plain": [
       "<Figure size 147.6x147.6 with 1 Axes>"
      ]
     },
     "metadata": {},
     "output_type": "display_data"
    }
   ],
   "source": [
    "with use_style(\"pyloric\"):\n",
    "    fig,axes = plot_biobjective_singleparameter(name, 0, color_bar=False, figsize=(figsize_col,figsize_col), color_label=\"$\\\\beta$\",vmin=vmin,vmax=vmax, cmap=\"tab20c\")\n",
    "    #axes.set_ylabel(\"$\\\\mathbb{E}_{p(\\\\theta,x)} [ -\\\\log q_\\\\phi(\\\\theta|x) ]$\")\n",
    "    axes.set_ylabel(None)\n",
    "    axes.set_xlabel(\"$D_{KL}(q||\\\\tilde{q})$\")\n",
    "    #axes.set_title(\"SIR\")\n",
    "    axes.set_xlim(-15,300)\n",
    "    axes.set_xticks([0.,150,300])\n",
    "    plt.show()\n",
    "    fig.savefig(\"sir_tradeoff.svg\", transparent=True)"
   ]
  },
  {
   "cell_type": "code",
   "execution_count": 42,
   "metadata": {},
   "outputs": [
    {
     "name": "stdout",
     "output_type": "stream",
     "text": [
      "Sweeper: tpe_multi_objective\n",
      "Overrides: ['defense=fisher_trace', 'task=spatial_sir', 'eval_rob.eps=2.0', 'model=maf_pyro', 'model/embedding_net=mlp', 'train.N_train=100000', 'train.N_test=10000', 'run_eval_approx=False']\n"
     ]
    },
    {
     "data": {
      "image/png": "[encoded data removed]",
      "text/plain": [
       "<Figure size 176.4x154.8 with 2 Axes>"
      ]
     },
     "metadata": {},
     "output_type": "display_data"
    }
   ],
   "source": [
    "with use_style(\"pyloric\"):\n",
    "    fig,axes = plot_biobjective_singleparameter(name, 3, figsize=(figsize_col + 0.4,figsize_col + 0.1), color_label=\"$\\\\beta$\",color_bar=True, vmin=vmin,vmax=vmax, cmap=\"tab20c\")\n",
    "    #axes.set_ylabel(\"$\\\\mathbb{E}_{p(\\\\theta,x)} [ -\\\\log q_\\\\phi(\\\\theta|x) ]$\")\n",
    "    cb = axes.collections[-1].colorbar\n",
    "    cb.ax.set_yticks([1e-4, 1e-3 ,1e-2, 1e-1, 1., 1e1])\n",
    "    axes.set_ylabel(None)\n",
    "    axes.set_xlabel(\"$D_{KL}(q||\\\\tilde{q})$\")\n",
    "    #axes.set_title(\"Spatial sir\")\n",
    "    #axes.set_xlim(-0.035,1.)\n",
    "    #axes.set_xticks([0,0.5,1.])\n",
    "    plt.show()\n",
    "    fig.savefig(\"spatial_sir_tradeoff.svg\", transparent=True)"
   ]
  },
  {
   "cell_type": "code",
   "execution_count": 7,
   "metadata": {},
   "outputs": [
    {
     "data": {
      "image/png": "[encoded data removed]",
      "text/plain": [
       "<Figure size 147.6x147.6 with 1 Axes>"
      ]
     },
     "metadata": {},
     "output_type": "display_data"
    }
   ],
   "source": [
    "# Slightly relaxed paretto set\n",
    "\n",
    "import numpy as np\n",
    "df = query_main(\"hh_sweep\", expand_params_defense=True)\n",
    "df_rob =query_rob_metric(\"hh_sweep\")\n",
    "df_main = pd.merge(df,df_rob, on=\"id\")\n",
    "df_main = df_main[[\"params_defense_beta\", \"main_value_rob\", \"test_loss\"]]\n",
    "# df_main = df_main.drop_duplicates()\n",
    "betas = df_main.params_defense_beta.to_numpy()\n",
    "test_loss = df_main.test_loss.to_numpy()\n",
    "rob = df_main.main_value_rob.to_numpy()\n",
    "mask = (rob > 0.) & (rob < 5000)\n",
    "betas = betas[mask]\n",
    "test_loss = test_loss[mask]\n",
    "rob = rob[mask]\n",
    "\n",
    "from paretoset import paretoset\n",
    "import pandas as pd\n",
    "\n",
    "vals = pd.DataFrame({\"test_loss\": test_loss , \n",
    "                       \"rob\": rob })\n",
    "mask = paretoset(vals, sense=[\"min\", \"min\"], distinct=False)\n",
    "\n",
    "relaxed_mask = np.array(mask, dtype=float)\n",
    "\n",
    "for i in range(2000):\n",
    "    vals = pd.DataFrame({\"test_loss\": test_loss + np.random.randn(len(test_loss))*0.4, \n",
    "                        \"rob\": rob + np.random.randn(len(rob))*10})\n",
    "    mask2 = paretoset(vals, sense=[\"min\", \"min\"], distinct=False)\n",
    "    \n",
    "    relaxed_mask =  relaxed_mask + np.array(mask2, dtype=float)\n",
    "\n",
    "mask = relaxed_mask > 150\n",
    "\n",
    "betas = betas[mask]\n",
    "test_loss = test_loss[mask]\n",
    "rob = rob[mask]\n",
    "with use_style(\"pyloric\"):\n",
    "    fig = plt.figure(figsize=(figsize_col,figsize_col))\n",
    "    plt.scatter(rob, test_loss, c=betas, norm=colors.LogNorm(vmin=vmin, vmax=vmax), cmap=\"tab20c\")\n",
    "    plt.xticks([0, 2000,4000])\n",
    "    plt.xlim(-200,5000)\n",
    "    plt.xlabel(\"$D_{KL}(q||\\\\tilde{q})$\")\n",
    "    fig.tight_layout()\n",
    "    fig.savefig(\"hh_tradeoff.svg\")"
   ]
  },
  {
   "cell_type": "code",
   "execution_count": null,
   "metadata": {},
   "outputs": [],
   "source": []
  }
 ],
 "metadata": {
  "kernelspec": {
   "display_name": "rbi",
   "language": "python",
   "name": "python3"
  },
  "language_info": {
   "codemirror_mode": {
    "name": "ipython",
    "version": 3
   },
   "file_extension": ".py",
   "mimetype": "text/x-python",
   "name": "python",
   "nbconvert_exporter": "python",
   "pygments_lexer": "ipython3",
   "version": "3.9.16"
  },
  "orig_nbformat": 4,
  "vscode": {
   "interpreter": {
    "hash": "3d60620b1564622c0f1178a0aef2564dbe9f757704529532da50ffa10076f562"
   }
  }
 },
 "nbformat": 4,
 "nbformat_minor": 2
}
