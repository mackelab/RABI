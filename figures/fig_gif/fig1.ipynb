{
 "cells": [
  {
   "cell_type": "code",
   "execution_count": 1,
   "metadata": {},
   "outputs": [
    {
     "name": "stdout",
     "output_type": "stream",
     "text": [
      "Looking in indexes: https://pypi.org/simple, https://download.pytorch.org/whl/cu116\n",
      "Collecting torch==1.13.0+cu116\n",
      "  Using cached https://download.pytorch.org/whl/cu116/torch-1.13.0%2Bcu116-cp39-cp39-win_amd64.whl (2436.5 MB)\n",
      "Requirement already satisfied: typing-extensions in c:\\users\\manug\\.conda\\envs\\rbi_camera_ready\\lib\\site-packages (from torch==1.13.0+cu116) (4.5.0)\n",
      "Installing collected packages: torch\n",
      "  Attempting uninstall: torch\n",
      "    Found existing installation: torch 1.13.1\n",
      "    Uninstalling torch-1.13.1:\n",
      "      Successfully uninstalled torch-1.13.1\n"
     ]
    },
    {
     "name": "stderr",
     "output_type": "stream",
     "text": [
      "WARNING: Ignoring invalid distribution -orch (c:\\users\\manug\\appdata\\roaming\\python\\python39\\site-packages)\n",
      "WARNING: Ignoring invalid distribution -orch (c:\\users\\manug\\appdata\\roaming\\python\\python39\\site-packages)\n",
      "WARNING: Ignoring invalid distribution -orch (c:\\users\\manug\\appdata\\roaming\\python\\python39\\site-packages)\n",
      "    WARNING: Ignoring invalid distribution -orch (c:\\users\\manug\\appdata\\roaming\\python\\python39\\site-packages)\n",
      "  WARNING: The scripts convert-caffe2-to-onnx.exe, convert-onnx-to-caffe2.exe and torchrun.exe are installed in 'C:\\Users\\manug\\AppData\\Roaming\\Python\\Python39\\Scripts' which is not on PATH.\n",
      "  Consider adding this directory to PATH or, if you prefer to suppress this warning, use --no-warn-script-location.\n",
      "ERROR: Could not install packages due to an OSError: [WinError 5] Zugriff verweigert: 'C:\\\\Users\\\\manug\\\\AppData\\\\Roaming\\\\Python\\\\Python39\\\\site-packages\\\\~-nctorch\\\\_C.cp39-win_amd64.pyd'\n",
      "Check the permissions.\n",
      "\n",
      "WARNING: Ignoring invalid distribution -orch (c:\\users\\manug\\appdata\\roaming\\python\\python39\\site-packages)\n",
      "WARNING: Ignoring invalid distribution -orch (c:\\users\\manug\\appdata\\roaming\\python\\python39\\site-packages)\n",
      "WARNING: Ignoring invalid distribution -orch (c:\\users\\manug\\appdata\\roaming\\python\\python39\\site-packages)\n",
      "C:\\Users\\manug\\AppData\\Roaming\\Python\\Python39\\site-packages\\requests\\__init__.py:102: RequestsDependencyWarning: urllib3 (1.26.15) or chardet (5.1.0)/charset_normalizer (2.0.12) doesn't match a supported version!\n",
      "  warnings.warn(\"urllib3 ({}) or chardet ({})/charset_normalizer ({}) doesn't match a supported \"\n"
     ]
    },
    {
     "data": {
      "text/plain": [
       "<torch._C.Generator at 0x26e1031c610>"
      ]
     },
     "execution_count": 1,
     "metadata": {},
     "output_type": "execute_result"
    }
   ],
   "source": [
    "# This file requires this torch version for reproducibility..., in contrast to the benchmarks which use 1.13.1\n",
    "!pip install torch==1.13.0+cu116 --extra-index-url https://download.pytorch.org/whl/cu116  --user\n",
    "import torch\n",
    "assert torch.__version__ == \"1.13.0+cu116\", \"Please install torch 1.13.0 to reproduce this\"\n",
    "\n",
    "from rbi.models import InverseAffineAutoregressiveModel\n",
    "from rbi.loss import NLLLoss\n",
    "\n",
    "from rbibm.tasks import HHTask\n",
    "from rbibm.tasks.hh_task import SimpleHHTask\n",
    "import torch \n",
    "from torch import nn\n",
    "\n",
    "import matplotlib.pyplot as plt\n",
    "\n",
    "seed = 0\n",
    "torch.manual_seed(seed)"
   ]
  },
  {
   "cell_type": "code",
   "execution_count": 2,
   "metadata": {},
   "outputs": [
    {
     "data": {
      "text/plain": [
       "'1.13.0+cu116'"
      ]
     },
     "execution_count": 2,
     "metadata": {},
     "output_type": "execute_result"
    }
   ],
   "source": [
    "torch.__version__"
   ]
  },
  {
   "cell_type": "code",
   "execution_count": 3,
   "metadata": {},
   "outputs": [],
   "source": [
    "colors = [\"#08519c\", \"#d94801\"]"
   ]
  },
  {
   "cell_type": "code",
   "execution_count": 4,
   "metadata": {},
   "outputs": [],
   "source": [
    "task = SimpleHHTask()\n",
    "prior = task.get_prior()\n",
    "simulator = task.get_simulator()\n",
    "train_loader, _,_ = task.get_train_test_val_dataset(10000,0,0)"
   ]
  },
  {
   "cell_type": "code",
   "execution_count": 5,
   "metadata": {},
   "outputs": [],
   "source": [
    "model = InverseAffineAutoregressiveModel(task.input_dim, task.output_dim, output_transform=torch.distributions.biject_to(prior.support), num_transforms=3, embedding_net=nn.Sequential(nn.Linear(500,200), nn.ReLU(),nn.Linear(200, 200), nn.ReLU(), nn.Linear(200, 50), nn.ReLU()), hidden_dims=[100,100])\n",
    "loss_fn = NLLLoss(model)"
   ]
  },
  {
   "cell_type": "code",
   "execution_count": 6,
   "metadata": {},
   "outputs": [
    {
     "name": "stdout",
     "output_type": "stream",
     "text": [
      "tensor([9.2542], grad_fn=<AddBackward0>)\n",
      "tensor([8.4607], grad_fn=<AddBackward0>)\n",
      "tensor([7.8071], grad_fn=<AddBackward0>)\n",
      "tensor([7.7755], grad_fn=<AddBackward0>)\n",
      "tensor([8.1016], grad_fn=<AddBackward0>)\n",
      "tensor([6.8904], grad_fn=<AddBackward0>)\n",
      "tensor([6.8233], grad_fn=<AddBackward0>)\n",
      "tensor([6.0251], grad_fn=<AddBackward0>)\n",
      "tensor([6.2589], grad_fn=<AddBackward0>)\n",
      "tensor([6.1069], grad_fn=<AddBackward0>)\n",
      "tensor([6.3163], grad_fn=<AddBackward0>)\n",
      "tensor([7.6844], grad_fn=<AddBackward0>)\n",
      "tensor([6.0297], grad_fn=<AddBackward0>)\n",
      "tensor([5.4683], grad_fn=<AddBackward0>)\n",
      "tensor([9.2171], grad_fn=<AddBackward0>)\n",
      "tensor([5.7812], grad_fn=<AddBackward0>)\n",
      "tensor([5.7043], grad_fn=<AddBackward0>)\n",
      "tensor([5.1988], grad_fn=<AddBackward0>)\n",
      "tensor([5.2126], grad_fn=<AddBackward0>)\n",
      "tensor([5.7353], grad_fn=<AddBackward0>)\n",
      "tensor([5.7488], grad_fn=<AddBackward0>)\n",
      "tensor([4.7494], grad_fn=<AddBackward0>)\n",
      "tensor([5.2045], grad_fn=<AddBackward0>)\n",
      "tensor([5.3752], grad_fn=<AddBackward0>)\n",
      "tensor([5.7706], grad_fn=<AddBackward0>)\n",
      "tensor([5.1659], grad_fn=<AddBackward0>)\n",
      "tensor([4.8038], grad_fn=<AddBackward0>)\n",
      "tensor([6.2066], grad_fn=<AddBackward0>)\n",
      "tensor([6.0251], grad_fn=<AddBackward0>)\n",
      "tensor([4.5538], grad_fn=<AddBackward0>)\n",
      "tensor([4.6506], grad_fn=<AddBackward0>)\n",
      "tensor([4.2114], grad_fn=<AddBackward0>)\n",
      "tensor([4.2008], grad_fn=<AddBackward0>)\n",
      "tensor([4.9193], grad_fn=<AddBackward0>)\n",
      "tensor([5.0516], grad_fn=<AddBackward0>)\n",
      "tensor([5.0881], grad_fn=<AddBackward0>)\n",
      "tensor([4.2527], grad_fn=<AddBackward0>)\n",
      "tensor([5.2049], grad_fn=<AddBackward0>)\n",
      "tensor([4.8828], grad_fn=<AddBackward0>)\n",
      "tensor([5.2580], grad_fn=<AddBackward0>)\n"
     ]
    }
   ],
   "source": [
    "num_epochs = 40\n",
    "optim = torch.optim.Adam(model.parameters())\n",
    "for i in range(num_epochs):\n",
    "    for x, theta in train_loader:\n",
    "        optim.zero_grad()\n",
    "        l = loss_fn(x, theta)\n",
    "        l.backward()\n",
    "        torch.nn.utils.clip_grad_norm_(model.parameters(), 10.)\n",
    "        optim.step()\n",
    "    print(l)"
   ]
  },
  {
   "cell_type": "code",
   "execution_count": 7,
   "metadata": {},
   "outputs": [
    {
     "data": {
      "text/plain": [
       "<torch._C.Generator at 0x26e1031c610>"
      ]
     },
     "execution_count": 7,
     "metadata": {},
     "output_type": "execute_result"
    }
   ],
   "source": [
    "torch.manual_seed(seed + 1)"
   ]
  },
  {
   "cell_type": "code",
   "execution_count": 8,
   "metadata": {},
   "outputs": [],
   "source": [
    "thetas = prior.sample((1000,))\n",
    "xs = simulator(thetas)"
   ]
  },
  {
   "cell_type": "code",
   "execution_count": 9,
   "metadata": {},
   "outputs": [],
   "source": [
    "from rbibm.metric.robustness_metric import ReverseKLRobMetric, ReverseKLLoss\n",
    "from rbi.attacks import LinfPGDAdamAttack"
   ]
  },
  {
   "cell_type": "code",
   "execution_count": 10,
   "metadata": {},
   "outputs": [],
   "source": [
    "attack = LinfPGDAdamAttack(model, ReverseKLLoss(mc_samples=5), eps=3., eps_iter=0.1, nb_iter=200)"
   ]
  },
  {
   "cell_type": "code",
   "execution_count": 11,
   "metadata": {},
   "outputs": [],
   "source": [
    "m = ReverseKLRobMetric(model, attack)"
   ]
  },
  {
   "cell_type": "code",
   "execution_count": 12,
   "metadata": {},
   "outputs": [
    {
     "data": {
      "text/plain": [
       "tensor(40.4724)"
      ]
     },
     "execution_count": 12,
     "metadata": {},
     "output_type": "execute_result"
    }
   ],
   "source": [
    "m.eval(xs.contiguous())"
   ]
  },
  {
   "cell_type": "code",
   "execution_count": 13,
   "metadata": {},
   "outputs": [],
   "source": [
    "x_idx, x_o_tilde = m.generate_adversarial_examples(xs)"
   ]
  },
  {
   "cell_type": "code",
   "execution_count": 14,
   "metadata": {},
   "outputs": [],
   "source": [
    "x_o = xs[x_idx[1]].unsqueeze(0)\n",
    "theta = thetas[x_idx[1]].unsqueeze(0)"
   ]
  },
  {
   "cell_type": "code",
   "execution_count": 15,
   "metadata": {},
   "outputs": [],
   "source": [
    "x_o_tilde= x_o_tilde[1].unsqueeze(0)"
   ]
  },
  {
   "cell_type": "code",
   "execution_count": 38,
   "metadata": {},
   "outputs": [],
   "source": [
    "linear_interpolations = torch.linspace(0, 1, 109)\n",
    "\n",
    "interpolated_samples = torch.stack([x_o_tilde * alpha + x_o * (1 - alpha) for alpha in linear_interpolations]).squeeze(1)\n",
    "qs = model(interpolated_samples)\n",
    "samples_qs = qs.sample((1000,))"
   ]
  },
  {
   "cell_type": "code",
   "execution_count": 32,
   "metadata": {},
   "outputs": [
    {
     "data": {
      "image/png": "[encoded data removed]",
      "text/plain": [
       "<Figure size 400x240 with 1 Axes>"
      ]
     },
     "metadata": {},
     "output_type": "display_data"
    }
   ],
   "source": [
    "import matplotlib.patheffects as pe\n",
    "import matplotlib \n",
    "from matplotlib.animation import FuncAnimation\n",
    "\n",
    "\n",
    "\n",
    "fig = plt.figure(figsize=(4, 2.4))\n",
    "_ = plt.plot(interpolated_samples[50].T, color=colors[0],lw=1.8,path_effects=[pe.Stroke(linewidth=3.5, foreground='black'), pe.Normal()])"
   ]
  },
  {
   "cell_type": "code",
   "execution_count": 76,
   "metadata": {},
   "outputs": [
    {
     "data": {
      "image/png": "[encoded data removed]",
      "text/plain": [
       "<Figure size 325x350 with 1 Axes>"
      ]
     },
     "metadata": {},
     "output_type": "display_data"
    }
   ],
   "source": [
    "import matplotlib as mpl\n",
    "with use_style(\"pyloric\"):\n",
    "    mpl.rcParams[\"axes.linewidth\"]=3\n",
    "    fig, axes = custom_2d_joint_plot([samples_qs[:,0].squeeze(),samples_qs[:,20].squeeze()],dim1=0, dim2=1,figsize=(3.25,3.5), bins=200,ylim=[0,100], xlim=[20,35], labels=[\"$\\\\theta_1$\", \"$\\\\theta_2$\"], colors=colors)\n",
    "   \n",
    "    axes[0].scatter(theta[:, 0], theta[:, 1],color=\"black\", marker=\"*\", s=50.)\n",
    "    axes[0].text(theta[:, 0], theta[:, 1] + 3, \"$\\\\theta^*$\", fontsize=14)\n",
    "\n",
    "    axes[0].set_xticks([])\n",
    "    axes[0].set_yticks([])\n",
    "    fig.delaxes(axes[1])\n",
    "    fig.delaxes(axes[2])\n",
    "    axes[0].set_ylabel(\"\")\n",
    "    axes[0].set_xlabel(\"\")"
   ]
  },
  {
   "cell_type": "code",
   "execution_count": 80,
   "metadata": {},
   "outputs": [
    {
     "data": {
      "text/plain": [
       "torch.Size([1000, 109, 2])"
      ]
     },
     "execution_count": 80,
     "metadata": {},
     "output_type": "execute_result"
    }
   ],
   "source": [
    "samples_qs.shape"
   ]
  },
  {
   "cell_type": "code",
   "execution_count": 89,
   "metadata": {},
   "outputs": [],
   "source": [
    "predictives = torch.stack([simulator(samples_qs[i]) for i in range(100)])"
   ]
  },
  {
   "cell_type": "code",
   "execution_count": 219,
   "metadata": {},
   "outputs": [],
   "source": [
    "mean = predictives.mean(0)\n",
    "q_upper = predictives.quantile(0.9, dim=0)\n",
    "q_lower = predictives.quantile(0.1, dim=0)"
   ]
  },
  {
   "cell_type": "code",
   "execution_count": 149,
   "metadata": {},
   "outputs": [],
   "source": [
    "from scipy.stats import gaussian_kde\n",
    "from matplotlib.colors import ListedColormap\n",
    "from matplotlib.colors import to_rgb\n",
    "y = torch.linspace(0, 100, 100)\n",
    "x = torch.linspace(20,35, 100)\n",
    "xx, yy = torch.meshgrid(x, y)\n",
    "pos = torch.hstack([xx.reshape(-1, 1), yy.reshape(-1, 1)])"
   ]
  },
  {
   "cell_type": "code",
   "execution_count": 221,
   "metadata": {},
   "outputs": [
    {
     "name": "stderr",
     "output_type": "stream",
     "text": [
      "MovieWriter ffmpeg unavailable; using Pillow instead.\n"
     ]
    }
   ],
   "source": [
    "%matplotlib tk\n",
    "import matplotlib.pyplot as plt\n",
    "from matplotlib.gridspec import GridSpec\n",
    "\n",
    "\n",
    "with use_style(\"pyloric\"):\n",
    "    mpl.rcParams[\"axes.linewidth\"]=3\n",
    "    fig = plt.figure(figsize=(5,3))\n",
    "    gs = GridSpec(3, 2, height_ratios=[1,1, 1])\n",
    "\n",
    "    # Create the GridSpec\n",
    "    \n",
    "    ax1 = fig.add_subplot(gs[0, 0])\n",
    "    ax1.set_title(r'Observation $x_o$', color=colors[0], fontsize=9)\n",
    "    ax1.set_axis_off()\n",
    "    _ = ax1.plot(interpolated_samples[0].T, color=colors[0],lw=1.5,)\n",
    "\n",
    "    ax2 = fig.add_subplot(gs[1, 0])\n",
    "    ax2.set_title(r'Perturbed $x_o + \\delta $', color=colors[1], fontsize=11)\n",
    "    ax2.set_axis_off()\n",
    "    _ = ax2.plot(interpolated_samples[0].T, color=colors[1],lw=1.5)\n",
    "\n",
    "    ax3 = fig.add_subplot(gs[:2, 1])\n",
    "    ax3.set_title('Estimated posterior')\n",
    "    ax3.set_ylabel(r'$\\theta_1$')\n",
    "    ax3.set_xlabel(r'$\\theta_2$')\n",
    "    ax3.set_xticks([])\n",
    "    ax3.set_yticks([])\n",
    "\n",
    "    ax4 = fig.add_subplot(gs[-1, 1])\n",
    "    ax4.set_title('Predictions')\n",
    "    ax4.set_ylim(-100, 40)\n",
    "    ax4.set_ylabel(\"Volt. [mV]\")\n",
    "    ax4.set_xlabel(\"Time [ms]\")\n",
    "    ax4.set_xticks([])\n",
    "    ax4.set_yticks([])\n",
    "\n",
    "    plt.tight_layout()\n",
    "    \n",
    "    def update(index):\n",
    "\n",
    "        ax2.clear()\n",
    "        ax3.clear()\n",
    "        ax4.clear()\n",
    "    \n",
    "        ax2.set_title(r'Perturbed $x_o + \\delta $', color=colors[1])\n",
    "        ax2.set_axis_off()\n",
    "        _ = ax2.plot(interpolated_samples[index].T, color=colors[1],lw=1.5)\n",
    "\n",
    "        # Plot 3\n",
    "        ax3.set_title('Inference')\n",
    "        p_xy1 = gaussian_kde(samples_qs[:, 0].numpy().T)\n",
    "        p_xy2 = gaussian_kde(samples_qs[:, index].numpy().T)\n",
    "        f_xy1 = p_xy1(pos.numpy().T).reshape(xx.shape)\n",
    "        f_xy2 = p_xy2(pos.numpy().T).reshape(xx.shape)\n",
    "        ax3.set_ylabel(r'$\\theta_1$')\n",
    "        ax3.set_xlabel(r'$\\theta_2$')\n",
    "        ax3.set_xticks([])\n",
    "        ax3.set_yticks([])\n",
    "\n",
    "        cmap = ListedColormap([to_rgb(colors[0]) + (i,) for i in torch.linspace(0, 1, 10)]) # type: ignore\n",
    "        ax3.contour(xx, yy, f_xy1, levels=5, cmap=cmap)\n",
    "        cmap = ListedColormap([to_rgb(colors[1]) + (i,) for i in torch.linspace(0, 1, 10)]) # type: ignore\n",
    "        ax3.contour(xx, yy, f_xy2, levels=5, cmap=cmap)\n",
    "\n",
    "\n",
    "        ax3.scatter(theta[:, 0], theta[:, 1],color=\"black\", marker=\"*\", s=50.)\n",
    "        ax3.text(theta[:, 0], theta[:, 1] + 3, \"$\\\\theta^*$\", fontsize=14)\n",
    "\n",
    "\n",
    "        # Plot 4\n",
    "        ax4.set_title('Predictions')\n",
    "        t = torch.linspace(0,60, 500)\n",
    "        ax4.plot(t, mean[index], color=colors[1], lw=1.5)\n",
    "        ax4.fill_between(t, q_lower[index], q_upper[index], color=colors[1], alpha=0.3)\n",
    "        ax4.set_ylim(-100, 40)\n",
    "        ax4.set_ylabel(\"Volt. [mV]\")\n",
    "        ax4.set_xlabel(\"Time [ms]\")\n",
    "        ax4.set_xticks([])\n",
    "        ax4.set_yticks([])\n",
    "\n",
    "        l = plt.plot([],[])\n",
    "\n",
    "\n",
    "        return l\n",
    "\n",
    "\n",
    "    ani = FuncAnimation(fig, update, frames=range(0, 109), blit=True, cache_frame_data =True, interval=100, repeat=False)\n",
    "    ani.save(\"fig1.gif\", dpi=200)\n"
   ]
  }
 ],
 "metadata": {
  "kernelspec": {
   "display_name": "base",
   "language": "python",
   "name": "python3"
  },
  "language_info": {
   "codemirror_mode": {
    "name": "ipython",
    "version": 3
   },
   "file_extension": ".py",
   "mimetype": "text/x-python",
   "name": "python",
   "nbconvert_exporter": "python",
   "pygments_lexer": "ipython3",
   "version": "3.9.16"
  },
  "orig_nbformat": 4,
  "vscode": {
   "interpreter": {
    "hash": "19d1d53a962d236aa061289c2ac16dc8e6d9648c89fe79f459ae9a3493bc67b4"
   }
  }
 },
 "nbformat": 4,
 "nbformat_minor": 2
}
