{
 "cells": [
  {
   "cell_type": "code",
   "execution_count": 5,
   "metadata": {},
   "outputs": [],
   "source": [
    "from sbibm import get_task\n",
    "from sbi.analysis import pairplot\n",
    "from rbi.utils.nets import IndependentGaussianNet\n",
    "from rbi.loss.loss_fn import NLLLoss\n",
    "\n",
    "from rbi.utils.datasets import get_datasets, get_reference_posterior_fn\n",
    "from rbi.defenses.regularized_loss import GaussianNoiseJacobiRegularizer, WorstCaseJacobiRegularizer\n",
    "from torch.distributions.kl import register_kl\n",
    "import torch\n",
    "\n",
    "import matplotlib.pyplot as plt\n",
    "\n",
    "from typing import Union"
   ]
  },
  {
   "cell_type": "code",
   "execution_count": 6,
   "metadata": {},
   "outputs": [],
   "source": [
    "train_loader, test_loader = get_datasets(\"gaussian_linear\", N_train=1000, N_test=50000, batch_size=256)\n",
    "analytic_post = get_reference_posterior_fn(\"gaussian_linear\")"
   ]
  },
  {
   "cell_type": "code",
   "execution_count": 7,
   "metadata": {},
   "outputs": [],
   "source": [
    "net1 = IndependentGaussianNet(10, 10, prediction_fn=\"mean\")\n",
    "loss_fn = NLLLoss(net1)"
   ]
  },
  {
   "cell_type": "code",
   "execution_count": 8,
   "metadata": {},
   "outputs": [
    {
     "name": "stdout",
     "output_type": "stream",
     "text": [
      "tensor(0.4630)\n",
      "tensor(-0.0741)\n",
      "tensor(-0.1281)\n",
      "tensor(-0.1418)\n",
      "tensor(-0.1408)\n",
      "tensor(-0.1812)\n"
     ]
    }
   ],
   "source": [
    "optim = torch.optim.Adam(net1.parameters())\n",
    "for i in range(300):\n",
    "    for X,y in train_loader:\n",
    "        optim.zero_grad()\n",
    "        loss = loss_fn(X, y)\n",
    "        loss.backward()\n",
    "        optim.step()\n",
    "    if (i%50)==0:\n",
    "        print(loss.detach())"
   ]
  },
  {
   "cell_type": "code",
   "execution_count": 14,
   "metadata": {},
   "outputs": [],
   "source": [
    "net2 = IndependentGaussianNet(10,10, prediction_fn=\"mean\")\n",
    "loss_fn = NLLLoss(net2)\n",
    "defense = GaussianNoiseJacobiRegularizer(net2, loss_fn, 0.2)\n",
    "defense.activate()"
   ]
  },
  {
   "cell_type": "code",
   "execution_count": 15,
   "metadata": {},
   "outputs": [
    {
     "name": "stdout",
     "output_type": "stream",
     "text": [
      "tensor(0.4476)\n",
      "tensor(0.1828)\n",
      "tensor(0.1923)\n",
      "tensor(0.2026)\n",
      "tensor(0.1890)\n",
      "tensor(0.2225)\n"
     ]
    }
   ],
   "source": [
    "optim = torch.optim.Adam(net2.parameters())\n",
    "for i in range(300):\n",
    "    for X,y in train_loader:\n",
    "        optim.zero_grad()\n",
    "        loss = loss_fn(X, y)\n",
    "        loss.backward()\n",
    "        optim.step()\n",
    "    if (i%50)==0:\n",
    "        print(loss.detach())"
   ]
  },
  {
   "cell_type": "code",
   "execution_count": 11,
   "metadata": {},
   "outputs": [],
   "source": [
    "net3 = IndependentGaussianNet(10,10, prediction_fn=\"mean\")\n",
    "loss_fn = NLLLoss(net3)\n",
    "defense = WorstCaseJacobiRegularizer(net3, loss_fn, 0.2)\n",
    "defense.activate()"
   ]
  },
  {
   "cell_type": "code",
   "execution_count": 12,
   "metadata": {},
   "outputs": [
    {
     "name": "stdout",
     "output_type": "stream",
     "text": [
      "tensor(0.4503)\n",
      "tensor(0.0485)\n",
      "tensor(0.0350)\n",
      "tensor(0.0427)\n",
      "tensor(0.0164)\n",
      "tensor(0.0230)\n"
     ]
    }
   ],
   "source": [
    "optim = torch.optim.Adam(net3.parameters())\n",
    "for i in range(300):\n",
    "    for X,y in train_loader:\n",
    "        optim.zero_grad()\n",
    "        loss = loss_fn(X, y)\n",
    "        loss.backward()\n",
    "        optim.step()\n",
    "    if (i%50)==0:\n",
    "        print(loss.detach())"
   ]
  },
  {
   "cell_type": "code",
   "execution_count": 16,
   "metadata": {},
   "outputs": [],
   "source": [
    "from rbi.attacks.advertorch_attack import GradientAttack, L2PGDAttack\n",
    "from rbi.metrics.empirical_metrics import EmpiricalLossMetric"
   ]
  },
  {
   "cell_type": "code",
   "execution_count": 17,
   "metadata": {},
   "outputs": [],
   "source": [
    "attack = L2PGDAttack(net1, loss_fn._loss, eps=0.5)\n",
    "metric = EmpiricalLossMetric(net1, attack, loss_fn)\n",
    "clean_loss1 = metric.eval_clean(test_loader)\n",
    "perturbed_loss1 = metric.eval_perturbed(test_loader)\n",
    "\n",
    "attack = L2PGDAttack(net2, loss_fn._loss, eps=0.5)\n",
    "metric = EmpiricalLossMetric(net2, attack, loss_fn)\n",
    "clean_loss2 = metric.eval_clean(test_loader)\n",
    "perturbed_loss2 = metric.eval_perturbed(test_loader)\n",
    "\n",
    "\n",
    "attack = L2PGDAttack(net3, loss_fn._loss, eps=0.5)\n",
    "metric = EmpiricalLossMetric(net3, attack, loss_fn)\n",
    "clean_loss3 = metric.eval_clean(test_loader)\n",
    "perturbed_loss3 = metric.eval_perturbed(test_loader)"
   ]
  },
  {
   "cell_type": "code",
   "execution_count": 18,
   "metadata": {},
   "outputs": [
    {
     "data": {
      "image/png": "[encoded data removed]",
      "text/plain": [
       "<Figure size 432x288 with 1 Axes>"
      ]
     },
     "metadata": {
      "needs_background": "light"
     },
     "output_type": "display_data"
    }
   ],
   "source": [
    "with torch.no_grad():\n",
    "    plt.plot([\"Net1\", \"Net2\", \"Net3\"], [clean_loss1, clean_loss2, clean_loss3])\n",
    "    plt.plot([\"Net1\", \"Net2\", \"Net3\"], [perturbed_loss1, perturbed_loss2, perturbed_loss3])\n",
    "    plt.ylabel(\"NLL\")"
   ]
  },
  {
   "cell_type": "code",
   "execution_count": 19,
   "metadata": {},
   "outputs": [],
   "source": [
    "# Comput the approximation error\n",
    "N = 10000\n",
    "Xs = torch.randn(N, 10)\n",
    "\n",
    "error1 = 0 \n",
    "error2 = 0\n",
    "error3 = 0\n",
    "\n",
    "for x in Xs:\n",
    "    ref_post = analytic_post(x)\n",
    "    post1 = net1(x.unsqueeze(0))\n",
    "    post1 = torch.distributions.MultivariateNormal(post1.loc, torch.diag_embed(post1.scale**2))\n",
    "    post2 = net2(x.unsqueeze(0)) \n",
    "    post2= torch.distributions.MultivariateNormal(post2.loc, torch.diag_embed(post2.scale**2))\n",
    "    post3 = net3(x.unsqueeze(0))\n",
    "    post3 = torch.distributions.MultivariateNormal(post3.loc, torch.diag_embed(post3.scale**2))\n",
    "    error1 += torch.distributions.kl_divergence(ref_post, post1)/N\n",
    "    error2 += torch.distributions.kl_divergence(ref_post, post2)/N\n",
    "    error3 += torch.distributions.kl_divergence(ref_post, post3)/N\n",
    "    \n",
    "    "
   ]
  },
  {
   "cell_type": "code",
   "execution_count": 20,
   "metadata": {},
   "outputs": [
    {
     "name": "stderr",
     "output_type": "stream",
     "text": [
      "c:\\ProgramData\\Miniconda3\\lib\\site-packages\\numpy\\core\\shape_base.py:65: FutureWarning: The input object of type 'Tensor' is an array-like implementing one of the corresponding protocols (`__array__`, `__array_interface__` or `__array_struct__`); but not a sequence (or 0-D). In the future, this object will be coerced as if it was first converted using `np.array(obj)`. To retain the old behaviour, you have to either modify the type 'Tensor', or assign to an empty array created with `np.empty(correct_shape, dtype=object)`.\n",
      "  ary = asanyarray(ary)\n",
      "c:\\ProgramData\\Miniconda3\\lib\\site-packages\\numpy\\core\\shape_base.py:65: VisibleDeprecationWarning: Creating an ndarray from ragged nested sequences (which is a list-or-tuple of lists-or-tuples-or ndarrays with different lengths or shapes) is deprecated. If you meant to do this, you must specify 'dtype=object' when creating the ndarray.\n",
      "  ary = asanyarray(ary)\n"
     ]
    },
    {
     "data": {
      "image/png": "[encoded data removed]",
      "text/plain": [
       "<Figure size 432x288 with 1 Axes>"
      ]
     },
     "metadata": {
      "needs_background": "light"
     },
     "output_type": "display_data"
    }
   ],
   "source": [
    "with torch.no_grad():\n",
    "    plt.plot([\"Net1\", \"Net2\", \"Net3\"], [error1, error2, error3])\n",
    "    plt.ylabel(\"KL True posterior\")"
   ]
  },
  {
   "cell_type": "code",
   "execution_count": null,
   "metadata": {},
   "outputs": [],
   "source": []
  }
 ],
 "metadata": {
  "interpreter": {
   "hash": "19d1d53a962d236aa061289c2ac16dc8e6d9648c89fe79f459ae9a3493bc67b4"
  },
  "kernelspec": {
   "display_name": "Python 3.9.5 ('base')",
   "language": "python",
   "name": "python3"
  },
  "language_info": {
   "codemirror_mode": {
    "name": "ipython",
    "version": 3
   },
   "file_extension": ".py",
   "mimetype": "text/x-python",
   "name": "python",
   "nbconvert_exporter": "python",
   "pygments_lexer": "ipython3",
   "version": "3.9.5"
  },
  "orig_nbformat": 4
 },
 "nbformat": 4,
 "nbformat_minor": 2
}
