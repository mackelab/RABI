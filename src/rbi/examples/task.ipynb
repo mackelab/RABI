{
 "cells": [
  {
   "cell_type": "code",
   "execution_count": 1,
   "metadata": {},
   "outputs": [],
   "source": [
    "from rbi.utils.tasks import LotkaVolterraTask, SquareTask\n",
    "import matplotlib.pyplot as plt\n",
    "import torch"
   ]
  },
  {
   "cell_type": "code",
   "execution_count": 2,
   "metadata": {},
   "outputs": [],
   "source": [
    "task = SquareTask(prior_scale=2, likelihood_scale=1.)"
   ]
  },
  {
   "cell_type": "code",
   "execution_count": 126,
   "metadata": {},
   "outputs": [],
   "source": []
  },
  {
   "cell_type": "code",
   "execution_count": 4,
   "metadata": {},
   "outputs": [
    {
     "data": {
      "text/plain": [
       "4"
      ]
     },
     "execution_count": 4,
     "metadata": {},
     "output_type": "execute_result"
    }
   ],
   "source": [
    "task.output_dim"
   ]
  },
  {
   "cell_type": "code",
   "execution_count": 127,
   "metadata": {},
   "outputs": [],
   "source": [
    "prior = task.get_prior()\n",
    "simulator = task.get_simulator()\n",
    "loglikelihood = task.get_loglikelihood_fn()\n",
    "potential_fn = task.get_potential_fn()"
   ]
  },
  {
   "cell_type": "code",
   "execution_count": 128,
   "metadata": {},
   "outputs": [
    {
     "data": {
      "text/plain": [
       "torch.Size([5, 10])"
      ]
     },
     "execution_count": 128,
     "metadata": {},
     "output_type": "execute_result"
    }
   ],
   "source": [
    "l = torch.randn(10, 100)\n",
    "s = torch.randn(5, 10, 4)\n",
    "\n",
    "potential_fn(l, s).shape"
   ]
  },
  {
   "cell_type": "code",
   "execution_count": 16,
   "metadata": {},
   "outputs": [
    {
     "data": {
      "text/plain": [
       "torch.Size([10, 1])"
      ]
     },
     "execution_count": 16,
     "metadata": {},
     "output_type": "execute_result"
    }
   ],
   "source": [
    "(loglikelihood(s).log_prob(l) + prior.log_prob(s)).shape"
   ]
  },
  {
   "cell_type": "code",
   "execution_count": 26,
   "metadata": {},
   "outputs": [],
   "source": [
    "true_post = task.get_true_posterior_logprob_fn(torch.tensor([10.]))"
   ]
  },
  {
   "cell_type": "code",
   "execution_count": 27,
   "metadata": {},
   "outputs": [
    {
     "data": {
      "text/plain": [
       "torch.Size([1, 1000, 1])"
      ]
     },
     "execution_count": 27,
     "metadata": {},
     "output_type": "execute_result"
    }
   ],
   "source": [
    "true_post(torch.linspace(-5, 5, 1000).reshape(-1,1)).shape"
   ]
  },
  {
   "cell_type": "code",
   "execution_count": 29,
   "metadata": {},
   "outputs": [
    {
     "data": {
      "text/plain": [
       "[<matplotlib.lines.Line2D at 0x1fecd92da30>]"
      ]
     },
     "execution_count": 29,
     "metadata": {},
     "output_type": "execute_result"
    },
    {
     "data": {
      "image/png": "[encoded data removed]",
      "text/plain": [
       "<Figure size 432x288 with 1 Axes>"
      ]
     },
     "metadata": {
      "needs_background": "light"
     },
     "output_type": "display_data"
    }
   ],
   "source": [
    "plt.plot(torch.linspace(-5, 5, 1000),true_post(torch.linspace(-5, 5, 1000).reshape(-1,1)).flatten().exp())"
   ]
  },
  {
   "cell_type": "code",
   "execution_count": 3,
   "metadata": {},
   "outputs": [
    {
     "ename": "NameError",
     "evalue": "name 'prior' is not defined",
     "output_type": "error",
     "traceback": [
      "\u001b[1;31m---------------------------------------------------------------------------\u001b[0m",
      "\u001b[1;31mNameError\u001b[0m                                 Traceback (most recent call last)",
      "\u001b[1;32mc:\\Users\\manug\\OneDrive\\Uni\\PHD\\rbi\\examples\\task.ipynb Zelle 10\u001b[0m in \u001b[0;36m<cell line: 1>\u001b[1;34m()\u001b[0m\n\u001b[1;32m----> <a href='vscode-notebook-cell:/c%3A/Users/manug/OneDrive/Uni/PHD/rbi/examples/task.ipynb#W5sZmlsZQ%3D%3D?line=0'>1</a>\u001b[0m thetas \u001b[39m=\u001b[39m prior\u001b[39m.\u001b[39msample((\u001b[39m50\u001b[39m,))\n\u001b[0;32m      <a href='vscode-notebook-cell:/c%3A/Users/manug/OneDrive/Uni/PHD/rbi/examples/task.ipynb#W5sZmlsZQ%3D%3D?line=1'>2</a>\u001b[0m x \u001b[39m=\u001b[39m simulator(thetas)\n",
      "\u001b[1;31mNameError\u001b[0m: name 'prior' is not defined"
     ]
    }
   ],
   "source": [
    "thetas = prior.sample((50,))\n",
    "x = simulator(thetas)"
   ]
  },
  {
   "cell_type": "code",
   "execution_count": 4,
   "metadata": {},
   "outputs": [],
   "source": [
    "train_loader, _ ,_ = task.get_train_test_val_dataset(5000, 100, None, batch_size=1000)"
   ]
  },
  {
   "cell_type": "code",
   "execution_count": 66,
   "metadata": {},
   "outputs": [
    {
     "name": "stderr",
     "output_type": "stream",
     "text": [
      "c:\\ProgramData\\Miniconda3\\lib\\site-packages\\pyro\\nn\\auto_reg_nn.py:179: UserWarning: ConditionalAutoRegressiveNN input_dim = 1. Consider using an affine transformation instead.\n",
      "  warnings.warn(\n"
     ]
    }
   ],
   "source": [
    "from rbi.utils.nets import SplineAutoregressiveModel, MixtureDiagGaussianModel\n",
    "import torch\n",
    "from rbi.loss.loss_fn import NegativeElboLoss\n",
    "net = SplineAutoregressiveModel(1, 1, num_transforms=1, count_bins=20, bound=10, hidden_dims=[100, 100])\n",
    "loss_fn = NegativeElboLoss(net, task.get_potential_fn(), task.get_loglikelihood_fn(), n_particles=4)"
   ]
  },
  {
   "cell_type": "code",
   "execution_count": 68,
   "metadata": {},
   "outputs": [
    {
     "name": "stdout",
     "output_type": "stream",
     "text": [
      "tensor([5.3722], grad_fn=<AddBackward0>)\n",
      "tensor([3.4644], grad_fn=<AddBackward0>)\n",
      "tensor([4.5749], grad_fn=<AddBackward0>)\n",
      "tensor([4.1415], grad_fn=<AddBackward0>)\n",
      "tensor([3.4850], grad_fn=<AddBackward0>)\n",
      "tensor([3.2433], grad_fn=<AddBackward0>)\n",
      "tensor([3.2327], grad_fn=<AddBackward0>)\n",
      "tensor([2.9492], grad_fn=<AddBackward0>)\n",
      "tensor([2.9030], grad_fn=<AddBackward0>)\n",
      "tensor([2.9972], grad_fn=<AddBackward0>)\n",
      "tensor([2.9714], grad_fn=<AddBackward0>)\n",
      "tensor([2.9964], grad_fn=<AddBackward0>)\n",
      "tensor([3.0053], grad_fn=<AddBackward0>)\n",
      "tensor([2.9305], grad_fn=<AddBackward0>)\n",
      "tensor([2.9928], grad_fn=<AddBackward0>)\n",
      "tensor([2.9139], grad_fn=<AddBackward0>)\n",
      "tensor([2.8273], grad_fn=<AddBackward0>)\n",
      "tensor([2.8920], grad_fn=<AddBackward0>)\n",
      "tensor([2.9193], grad_fn=<AddBackward0>)\n",
      "tensor([2.9234], grad_fn=<AddBackward0>)\n"
     ]
    }
   ],
   "source": [
    "optim = torch.optim.Adam(net.parameters(), lr=1e-3)\n",
    "for i in range(20):\n",
    "    for x, theta in train_loader:\n",
    "        optim.zero_grad()\n",
    "        l = loss_fn(x, theta)\n",
    "        l.backward()\n",
    "        optim.step()\n",
    "    print(l)\n",
    "\n"
   ]
  },
  {
   "cell_type": "code",
   "execution_count": 78,
   "metadata": {},
   "outputs": [],
   "source": [
    "true_post = task.get_potential_fn()"
   ]
  },
  {
   "cell_type": "code",
   "execution_count": 79,
   "metadata": {},
   "outputs": [],
   "source": [
    "theta_o = torch.tensor([1.3])\n",
    "x_o = simulator(theta_o)\n",
    "post = net(x_o)"
   ]
  },
  {
   "cell_type": "code",
   "execution_count": 80,
   "metadata": {},
   "outputs": [
    {
     "data": {
      "text/plain": [
       "<matplotlib.collections.LineCollection at 0x19405fc4cd0>"
      ]
     },
     "execution_count": 80,
     "metadata": {},
     "output_type": "execute_result"
    },
    {
     "data": {
      "image/png": "[encoded data removed]",
      "text/plain": [
       "<Figure size 432x288 with 1 Axes>"
      ]
     },
     "metadata": {
      "needs_background": "light"
     },
     "output_type": "display_data"
    }
   ],
   "source": [
    "x = torch.linspace(-6,6, 1000)\n",
    "logq = post.log_prob(x.reshape(-1,1)).flatten().detach()\n",
    "logp = true_post(x_o, x.reshape(-1,1)).exp()\n",
    "logp /= torch.trapz(logp.flatten(), x.flatten())\n",
    "plt.plot(x, logq.exp())\n",
    "plt.plot(x, logp.flatten())\n",
    "plt.vlines(theta_o, 0, 1, color=\"red\")\n",
    "plt.vlines(-theta_o, 0, 1, color=\"red\")"
   ]
  },
  {
   "cell_type": "code",
   "execution_count": 82,
   "metadata": {},
   "outputs": [],
   "source": [
    "net2 = SplineAutoregressiveModel(1, 1, num_transforms=1, count_bins=20, bound=10, hidden_dims=[100, 100])\n",
    "loss_fn = NegativeElboLoss(net2, task.get_potential_fn(), task.get_loglikelihood_fn(), n_particles=4)"
   ]
  },
  {
   "cell_type": "code",
   "execution_count": 85,
   "metadata": {},
   "outputs": [
    {
     "name": "stdout",
     "output_type": "stream",
     "text": [
      "tensor([13.4043], grad_fn=<AddBackward0>)\n",
      "tensor([8.6313], grad_fn=<AddBackward0>)\n",
      "tensor([5.4976], grad_fn=<AddBackward0>)\n",
      "tensor([4.0138], grad_fn=<AddBackward0>)\n",
      "tensor([3.7517], grad_fn=<AddBackward0>)\n",
      "tensor([3.8230], grad_fn=<AddBackward0>)\n",
      "tensor([3.7095], grad_fn=<AddBackward0>)\n",
      "tensor([3.7073], grad_fn=<AddBackward0>)\n",
      "tensor([3.6249], grad_fn=<AddBackward0>)\n",
      "tensor([3.6602], grad_fn=<AddBackward0>)\n",
      "tensor([3.6329], grad_fn=<AddBackward0>)\n",
      "tensor([3.5957], grad_fn=<AddBackward0>)\n",
      "tensor([3.5898], grad_fn=<AddBackward0>)\n",
      "tensor([3.6039], grad_fn=<AddBackward0>)\n",
      "tensor([3.6642], grad_fn=<AddBackward0>)\n",
      "tensor([3.6226], grad_fn=<AddBackward0>)\n",
      "tensor([3.5484], grad_fn=<AddBackward0>)\n",
      "tensor([3.6230], grad_fn=<AddBackward0>)\n",
      "tensor([3.6048], grad_fn=<AddBackward0>)\n",
      "tensor([3.5051], grad_fn=<AddBackward0>)\n"
     ]
    }
   ],
   "source": [
    "optim = torch.optim.Adam(net2.parameters(), lr=1e-3)\n",
    "for i in range(20):\n",
    "    for x, theta in train_loader:\n",
    "        optim.zero_grad()\n",
    "        l = loss_fn(x + torch.randn_like(x)*2, theta)\n",
    "        l.backward()\n",
    "        optim.step()\n",
    "    print(l)\n",
    "\n"
   ]
  },
  {
   "cell_type": "code",
   "execution_count": 88,
   "metadata": {},
   "outputs": [],
   "source": [
    "post = net2(x_o)"
   ]
  },
  {
   "cell_type": "code",
   "execution_count": 89,
   "metadata": {},
   "outputs": [
    {
     "data": {
      "text/plain": [
       "<matplotlib.collections.LineCollection at 0x1940602d2b0>"
      ]
     },
     "execution_count": 89,
     "metadata": {},
     "output_type": "execute_result"
    },
    {
     "data": {
      "image/png": "[encoded data removed]",
      "text/plain": [
       "<Figure size 432x288 with 1 Axes>"
      ]
     },
     "metadata": {
      "needs_background": "light"
     },
     "output_type": "display_data"
    }
   ],
   "source": [
    "x = torch.linspace(-6,6, 1000)\n",
    "logq = post.log_prob(x.reshape(-1,1)).flatten().detach()\n",
    "logp = true_post(x_o, x.reshape(-1,1)).exp()\n",
    "logp /= torch.trapz(logp.flatten(), x.flatten())\n",
    "plt.plot(x, logq.exp())\n",
    "plt.plot(x, logp.flatten())\n",
    "plt.vlines(theta_o, 0, 1, color=\"red\")\n",
    "plt.vlines(-theta_o, 0, 1, color=\"red\")"
   ]
  },
  {
   "cell_type": "code",
   "execution_count": 120,
   "metadata": {},
   "outputs": [
    {
     "name": "stderr",
     "output_type": "stream",
     "text": [
      "c:\\ProgramData\\Miniconda3\\lib\\site-packages\\pyro\\nn\\auto_reg_nn.py:179: UserWarning: ConditionalAutoRegressiveNN input_dim = 1. Consider using an affine transformation instead.\n",
      "  warnings.warn(\n"
     ]
    }
   ],
   "source": [
    "from rbi.loss.loss_fn import NLLLoss\n",
    "net3 = SplineAutoregressiveModel(1, 1, num_transforms=1, count_bins=20, bound=10, hidden_dims=[100, 100])\n",
    "loss_fn = NLLLoss(net3)"
   ]
  },
  {
   "cell_type": "code",
   "execution_count": 125,
   "metadata": {},
   "outputs": [
    {
     "data": {
      "text/plain": [
       "False"
      ]
     },
     "execution_count": 125,
     "metadata": {},
     "output_type": "execute_result"
    }
   ],
   "source": [
    "loss_fn.training"
   ]
  },
  {
   "cell_type": "code",
   "execution_count": 124,
   "metadata": {},
   "outputs": [
    {
     "data": {
      "text/plain": [
       "NLLLoss(\n",
       "  (model): SplineAutoregressiveModel(\n",
       "    (embedding_net): Identity()\n",
       "    (t0): ConditionalSplineAutoregressive(\n",
       "      (nn): ConditionalAutoRegressiveNN(\n",
       "        (layers): ModuleList(\n",
       "          (0): MaskedLinear(in_features=2, out_features=100, bias=True)\n",
       "          (1): MaskedLinear(in_features=100, out_features=100, bias=True)\n",
       "          (2): MaskedLinear(in_features=100, out_features=79, bias=True)\n",
       "        )\n",
       "        (f): ReLU()\n",
       "      )\n",
       "    )\n",
       "  )\n",
       ")"
      ]
     },
     "execution_count": 124,
     "metadata": {},
     "output_type": "execute_result"
    }
   ],
   "source": [
    "loss_fn.eval()"
   ]
  },
  {
   "cell_type": "code",
   "execution_count": 105,
   "metadata": {},
   "outputs": [
    {
     "name": "stdout",
     "output_type": "stream",
     "text": [
      "tensor([1.3834], grad_fn=<AddBackward0>)\n",
      "tensor([1.4256], grad_fn=<AddBackward0>)\n",
      "tensor([1.4354], grad_fn=<AddBackward0>)\n",
      "tensor([1.3968], grad_fn=<AddBackward0>)\n",
      "tensor([1.3886], grad_fn=<AddBackward0>)\n",
      "tensor([1.3892], grad_fn=<AddBackward0>)\n",
      "tensor([1.4133], grad_fn=<AddBackward0>)\n",
      "tensor([1.3839], grad_fn=<AddBackward0>)\n",
      "tensor([1.3720], grad_fn=<AddBackward0>)\n",
      "tensor([1.4116], grad_fn=<AddBackward0>)\n",
      "tensor([1.3867], grad_fn=<AddBackward0>)\n",
      "tensor([1.3912], grad_fn=<AddBackward0>)\n",
      "tensor([1.3739], grad_fn=<AddBackward0>)\n",
      "tensor([1.3665], grad_fn=<AddBackward0>)\n",
      "tensor([1.3924], grad_fn=<AddBackward0>)\n",
      "tensor([1.3652], grad_fn=<AddBackward0>)\n",
      "tensor([1.3841], grad_fn=<AddBackward0>)\n",
      "tensor([1.3835], grad_fn=<AddBackward0>)\n",
      "tensor([1.3902], grad_fn=<AddBackward0>)\n",
      "tensor([1.4762], grad_fn=<AddBackward0>)\n"
     ]
    }
   ],
   "source": [
    "optim = torch.optim.Adam(net3.parameters(), lr=1e-3)\n",
    "for i in range(20):\n",
    "    for x, theta in train_loader:\n",
    "        optim.zero_grad()\n",
    "        l = loss_fn(x + torch.randn_like(x)*2, theta)\n",
    "        l.backward()\n",
    "        optim.step()\n",
    "    print(l)\n",
    "\n"
   ]
  },
  {
   "cell_type": "code",
   "execution_count": 106,
   "metadata": {},
   "outputs": [],
   "source": [
    "post = net3(x_o)\n",
    "x = torch.linspace(-6,6, 1000)\n",
    "task_perturbed = SquareTask(prior_scale=2, likelihood_scale=3.)\n",
    "true_post2 = task_perturbed.get_potential_fn()\n",
    "logp2 = true_post2(x_o, x.reshape(-1,1)).exp()\n",
    "logp2 /= torch.trapz(logp2.flatten(), x.flatten())"
   ]
  },
  {
   "cell_type": "code",
   "execution_count": 114,
   "metadata": {},
   "outputs": [],
   "source": [
    "torch.save(net, \"test\")"
   ]
  },
  {
   "cell_type": "code",
   "execution_count": 113,
   "metadata": {},
   "outputs": [],
   "source": [
    "net.input_transform = None"
   ]
  },
  {
   "cell_type": "code",
   "execution_count": 107,
   "metadata": {},
   "outputs": [
    {
     "data": {
      "text/plain": [
       "<matplotlib.collections.LineCollection at 0x1940bbc5910>"
      ]
     },
     "execution_count": 107,
     "metadata": {},
     "output_type": "execute_result"
    },
    {
     "data": {
      "image/png": "[encoded data removed]",
      "text/plain": [
       "<Figure size 432x288 with 1 Axes>"
      ]
     },
     "metadata": {
      "needs_background": "light"
     },
     "output_type": "display_data"
    }
   ],
   "source": [
    "\n",
    "logq = post.log_prob(x.reshape(-1,1)).flatten().detach()\n",
    "logp = true_post(x_o, x.reshape(-1,1)).exp()\n",
    "logp /= torch.trapz(logp.flatten(), x.flatten())\n",
    "plt.plot(x, logq.exp())\n",
    "plt.plot(x, logp.flatten())\n",
    "plt.plot(x, logp2.flatten())\n",
    "plt.vlines(theta_o, 0, 1, color=\"red\")\n",
    "plt.vlines(-theta_o, 0, 1, color=\"red\")"
   ]
  },
  {
   "cell_type": "code",
   "execution_count": 47,
   "metadata": {},
   "outputs": [],
   "source": [
    "task = LotkaVolterraTask(observation_noise=1., prior_scale=0.5, odeint_kwargs={\"method\": \"euler\", \"options\":{\"step_size\":5e-4}})\n",
    "\n",
    "prior = task.get_prior()\n",
    "simulator = task.get_simulator()\n",
    "loglikelihood = task.get_loglikelihood_fn()\n",
    "potential_fn = task.get_potential_fn()"
   ]
  },
  {
   "cell_type": "code",
   "execution_count": 48,
   "metadata": {},
   "outputs": [],
   "source": [
    "train_loader, _ ,_ = task.get_train_test_val_dataset(1000, 100, None, batch_size=100)"
   ]
  },
  {
   "cell_type": "code",
   "execution_count": 51,
   "metadata": {},
   "outputs": [],
   "source": [
    "from rbi.utils.nets import SplineAutoregressiveModel, MixtureDiagGaussianModel, IndependentGaussianNet, AffineAutoregressiveModel\n",
    "import torch\n",
    "from rbi.loss.loss_fn import NegativeElboLoss\n",
    "net = AffineAutoregressiveModel(100, 4, hidden_dims=[100, 100], num_transforms=2)\n",
    "loss_fn = NegativeElboLoss(net, task.get_potential_fn(), task.get_loglikelihood_fn(), n_particles=1)"
   ]
  },
  {
   "cell_type": "code",
   "execution_count": 52,
   "metadata": {},
   "outputs": [
    {
     "data": {
      "text/plain": [
       "tensor([44524.6719], grad_fn=<AddBackward0>)"
      ]
     },
     "execution_count": 52,
     "metadata": {},
     "output_type": "execute_result"
    }
   ],
   "source": [
    "loss_fn(x, theta)"
   ]
  },
  {
   "cell_type": "code",
   "execution_count": 41,
   "metadata": {},
   "outputs": [
    {
     "data": {
      "text/plain": [
       "tensor(22942.1133)"
      ]
     },
     "execution_count": 41,
     "metadata": {},
     "output_type": "execute_result"
    }
   ],
   "source": [
    "simulator(net(x).sample()).max()"
   ]
  },
  {
   "cell_type": "code",
   "execution_count": 53,
   "metadata": {},
   "outputs": [
    {
     "name": "stdout",
     "output_type": "stream",
     "text": [
      "tensor([20144.7051], grad_fn=<AddBackward0>)\n"
     ]
    },
    {
     "ename": "ValueError",
     "evalue": "Expected value argument (Tensor of shape (1, 100, 4)) to be within the support (Real()) of the distribution Normal(loc: torch.Size([4]), scale: torch.Size([4])), but found invalid values:\ntensor([[[nan, nan, nan, nan],\n         [nan, nan, nan, nan],\n         [nan, nan, nan, nan],\n         [nan, nan, nan, nan],\n         [nan, nan, nan, nan],\n         [nan, nan, nan, nan],\n         [nan, nan, nan, nan],\n         [nan, nan, nan, nan],\n         [nan, nan, nan, nan],\n         [nan, nan, nan, nan],\n         [nan, nan, nan, nan],\n         [nan, nan, nan, nan],\n         [nan, nan, nan, nan],\n         [nan, nan, nan, nan],\n         [nan, nan, nan, nan],\n         [nan, nan, nan, nan],\n         [nan, nan, nan, nan],\n         [nan, nan, nan, nan],\n         [nan, nan, nan, nan],\n         [nan, nan, nan, nan],\n         [nan, nan, nan, nan],\n         [nan, nan, nan, nan],\n         [nan, nan, nan, nan],\n         [nan, nan, nan, nan],\n         [nan, nan, nan, nan],\n         [nan, nan, nan, nan],\n         [nan, nan, nan, nan],\n         [nan, nan, nan, nan],\n         [nan, nan, nan, nan],\n         [nan, nan, nan, nan],\n         [nan, nan, nan, nan],\n         [nan, nan, nan, nan],\n         [nan, nan, nan, nan],\n         [nan, nan, nan, nan],\n         [nan, nan, nan, nan],\n         [nan, nan, nan, nan],\n         [nan, nan, nan, nan],\n         [nan, nan, nan, nan],\n         [nan, nan, nan, nan],\n         [nan, nan, nan, nan],\n         [nan, nan, nan, nan],\n         [nan, nan, nan, nan],\n         [nan, nan, nan, nan],\n         [nan, nan, nan, nan],\n         [nan, nan, nan, nan],\n         [nan, nan, nan, nan],\n         [nan, nan, nan, nan],\n         [nan, nan, nan, nan],\n         [nan, nan, nan, nan],\n         [nan, nan, nan, nan],\n         [nan, nan, nan, nan],\n         [nan, nan, nan, nan],\n         [nan, nan, nan, nan],\n         [nan, nan, nan, nan],\n         [nan, nan, nan, nan],\n         [nan, nan, nan, nan],\n         [nan, nan, nan, nan],\n         [nan, nan, nan, nan],\n         [nan, nan, nan, nan],\n         [nan, nan, nan, nan],\n         [nan, nan, nan, nan],\n         [nan, nan, nan, nan],\n         [nan, nan, nan, nan],\n         [nan, nan, nan, nan],\n         [nan, nan, nan, nan],\n         [nan, nan, nan, nan],\n         [nan, nan, nan, nan],\n         [nan, nan, nan, nan],\n         [nan, nan, nan, nan],\n         [nan, nan, nan, nan],\n         [nan, nan, nan, nan],\n         [nan, nan, nan, nan],\n         [nan, nan, nan, nan],\n         [nan, nan, nan, nan],\n         [nan, nan, nan, nan],\n         [nan, nan, nan, nan],\n         [nan, nan, nan, nan],\n         [nan, nan, nan, nan],\n         [nan, nan, nan, nan],\n         [nan, nan, nan, nan],\n         [nan, nan, nan, nan],\n         [nan, nan, nan, nan],\n         [nan, nan, nan, nan],\n         [nan, nan, nan, nan],\n         [nan, nan, nan, nan],\n         [nan, nan, nan, nan],\n         [nan, nan, nan, nan],\n         [nan, nan, nan, nan],\n         [nan, nan, nan, nan],\n         [nan, nan, nan, nan],\n         [nan, nan, nan, nan],\n         [nan, nan, nan, nan],\n         [nan, nan, nan, nan],\n         [nan, nan, nan, nan],\n         [nan, nan, nan, nan],\n         [nan, nan, nan, nan],\n         [nan, nan, nan, nan],\n         [nan, nan, nan, nan],\n         [nan, nan, nan, nan],\n         [nan, nan, nan, nan]]], grad_fn=<IndexSelectBackward0>)",
     "output_type": "error",
     "traceback": [
      "\u001b[1;31m---------------------------------------------------------------------------\u001b[0m",
      "\u001b[1;31mValueError\u001b[0m                                Traceback (most recent call last)",
      "\u001b[1;32mc:\\Users\\manug\\OneDrive\\Uni\\PHD\\rbi\\examples\\task.ipynb Zelle 35\u001b[0m in \u001b[0;36m<cell line: 2>\u001b[1;34m()\u001b[0m\n\u001b[0;32m      <a href='vscode-notebook-cell:/c%3A/Users/manug/OneDrive/Uni/PHD/rbi/examples/task.ipynb#Y111sZmlsZQ%3D%3D?line=2'>3</a>\u001b[0m \u001b[39mfor\u001b[39;00m x, theta \u001b[39min\u001b[39;00m train_loader:\n\u001b[0;32m      <a href='vscode-notebook-cell:/c%3A/Users/manug/OneDrive/Uni/PHD/rbi/examples/task.ipynb#Y111sZmlsZQ%3D%3D?line=3'>4</a>\u001b[0m     optim\u001b[39m.\u001b[39mzero_grad()\n\u001b[1;32m----> <a href='vscode-notebook-cell:/c%3A/Users/manug/OneDrive/Uni/PHD/rbi/examples/task.ipynb#Y111sZmlsZQ%3D%3D?line=4'>5</a>\u001b[0m     l \u001b[39m=\u001b[39m loss_fn(x, theta)\n\u001b[0;32m      <a href='vscode-notebook-cell:/c%3A/Users/manug/OneDrive/Uni/PHD/rbi/examples/task.ipynb#Y111sZmlsZQ%3D%3D?line=5'>6</a>\u001b[0m     l\u001b[39m.\u001b[39mbackward()\n\u001b[0;32m      <a href='vscode-notebook-cell:/c%3A/Users/manug/OneDrive/Uni/PHD/rbi/examples/task.ipynb#Y111sZmlsZQ%3D%3D?line=6'>7</a>\u001b[0m     optim\u001b[39m.\u001b[39mstep()\n",
      "File \u001b[1;32mc:\\ProgramData\\Miniconda3\\lib\\site-packages\\torch\\nn\\modules\\module.py:1110\u001b[0m, in \u001b[0;36mModule._call_impl\u001b[1;34m(self, *input, **kwargs)\u001b[0m\n\u001b[0;32m   1106\u001b[0m \u001b[39m# If we don't have any hooks, we want to skip the rest of the logic in\u001b[39;00m\n\u001b[0;32m   1107\u001b[0m \u001b[39m# this function, and just call forward.\u001b[39;00m\n\u001b[0;32m   1108\u001b[0m \u001b[39mif\u001b[39;00m \u001b[39mnot\u001b[39;00m (\u001b[39mself\u001b[39m\u001b[39m.\u001b[39m_backward_hooks \u001b[39mor\u001b[39;00m \u001b[39mself\u001b[39m\u001b[39m.\u001b[39m_forward_hooks \u001b[39mor\u001b[39;00m \u001b[39mself\u001b[39m\u001b[39m.\u001b[39m_forward_pre_hooks \u001b[39mor\u001b[39;00m _global_backward_hooks\n\u001b[0;32m   1109\u001b[0m         \u001b[39mor\u001b[39;00m _global_forward_hooks \u001b[39mor\u001b[39;00m _global_forward_pre_hooks):\n\u001b[1;32m-> 1110\u001b[0m     \u001b[39mreturn\u001b[39;00m forward_call(\u001b[39m*\u001b[39m\u001b[39minput\u001b[39m, \u001b[39m*\u001b[39m\u001b[39m*\u001b[39mkwargs)\n\u001b[0;32m   1111\u001b[0m \u001b[39m# Do not call functions when jit is used\u001b[39;00m\n\u001b[0;32m   1112\u001b[0m full_backward_hooks, non_full_backward_hooks \u001b[39m=\u001b[39m [], []\n",
      "File \u001b[1;32mc:\\users\\manug\\onedrive\\uni\\phd\\rbi\\rbi\\loss\\base.py:59\u001b[0m, in \u001b[0;36mTrainLoss.forward\u001b[1;34m(self, input, target)\u001b[0m\n\u001b[0;32m     57\u001b[0m \u001b[39mif\u001b[39;00m \u001b[39mlen\u001b[39m(\u001b[39mself\u001b[39m\u001b[39m.\u001b[39mpre_loss_regularizers) \u001b[39m==\u001b[39m \u001b[39m0\u001b[39m:\n\u001b[0;32m     58\u001b[0m     output \u001b[39m=\u001b[39m \u001b[39mself\u001b[39m\u001b[39m.\u001b[39mmodel(\u001b[39minput\u001b[39m)\n\u001b[1;32m---> 59\u001b[0m     loss \u001b[39m+\u001b[39m\u001b[39m=\u001b[39m \u001b[39mself\u001b[39;49m\u001b[39m.\u001b[39;49m_loss(output, target, \u001b[39minput\u001b[39;49m)\n\u001b[0;32m     60\u001b[0m \u001b[39melse\u001b[39;00m:\n\u001b[0;32m     61\u001b[0m     \u001b[39mfor\u001b[39;00m pre_regularizer \u001b[39min\u001b[39;00m \u001b[39mself\u001b[39m\u001b[39m.\u001b[39mpre_loss_regularizers\u001b[39m.\u001b[39mvalues():\n",
      "File \u001b[1;32mc:\\users\\manug\\onedrive\\uni\\phd\\rbi\\rbi\\loss\\loss_fn.py:67\u001b[0m, in \u001b[0;36mNegativeElboLoss._loss\u001b[1;34m(self, output, target, input)\u001b[0m\n\u001b[0;32m     65\u001b[0m \u001b[39mdef\u001b[39;00m \u001b[39m_loss\u001b[39m(\u001b[39mself\u001b[39m, output: Distribution, target:Tensor, \u001b[39minput\u001b[39m: Tensor) \u001b[39m-\u001b[39m\u001b[39m>\u001b[39m Tensor:\n\u001b[0;32m     66\u001b[0m     \u001b[39mif\u001b[39;00m \u001b[39mself\u001b[39m\u001b[39m.\u001b[39mmethod \u001b[39m==\u001b[39m \u001b[39m\"\u001b[39m\u001b[39mjoint_contrastive\u001b[39m\u001b[39m\"\u001b[39m:\n\u001b[1;32m---> 67\u001b[0m         \u001b[39mreturn\u001b[39;00m \u001b[39mself\u001b[39;49m\u001b[39m.\u001b[39;49m_loss_joint_contrastive(output, target, \u001b[39minput\u001b[39;49m)\n",
      "File \u001b[1;32mc:\\users\\manug\\onedrive\\uni\\phd\\rbi\\rbi\\loss\\loss_fn.py:71\u001b[0m, in \u001b[0;36mNegativeElboLoss._loss_joint_contrastive\u001b[1;34m(self, output, target, input)\u001b[0m\n\u001b[0;32m     69\u001b[0m \u001b[39mdef\u001b[39;00m \u001b[39m_loss_joint_contrastive\u001b[39m(\u001b[39mself\u001b[39m, output: Distribution, target, \u001b[39minput\u001b[39m: Tensor):\n\u001b[0;32m     70\u001b[0m     samples_q \u001b[39m=\u001b[39m output\u001b[39m.\u001b[39mrsample((\u001b[39mself\u001b[39m\u001b[39m.\u001b[39mn_particles,))\n\u001b[1;32m---> 71\u001b[0m     potential \u001b[39m=\u001b[39m \u001b[39mself\u001b[39;49m\u001b[39m.\u001b[39;49mpotential_fn(\u001b[39minput\u001b[39;49m, samples_q)\u001b[39m.\u001b[39mmean(\u001b[39m0\u001b[39m)\n\u001b[0;32m     72\u001b[0m     logq \u001b[39m=\u001b[39m output\u001b[39m.\u001b[39mlog_prob(samples_q)\n\u001b[0;32m     73\u001b[0m     \u001b[39mreturn\u001b[39;00m \u001b[39m-\u001b[39mtorch\u001b[39m.\u001b[39mmean(potential \u001b[39m-\u001b[39m logq)\n",
      "File \u001b[1;32mc:\\users\\manug\\onedrive\\uni\\phd\\rbi\\rbi\\utils\\tasks.py:56\u001b[0m, in \u001b[0;36mInferenceTask.get_potential_fn.<locals>.potential_fn\u001b[1;34m(x, theta)\u001b[0m\n\u001b[0;32m     47\u001b[0m \u001b[39mdef\u001b[39;00m \u001b[39mpotential_fn\u001b[39m(x, theta):\n\u001b[0;32m     48\u001b[0m     \u001b[39m#theta_shape = theta.shape\u001b[39;00m\n\u001b[0;32m     49\u001b[0m     \u001b[39m#x_shape = x.shape\u001b[39;00m\n\u001b[0;32m     50\u001b[0m \n\u001b[0;32m     51\u001b[0m     \u001b[39m#theta = theta.reshape(-1, self.output_dim)\u001b[39;00m\n\u001b[0;32m     52\u001b[0m     \u001b[39m#x = x.reshape(-1, self.input_dim)\u001b[39;00m\n\u001b[0;32m     55\u001b[0m     likelihood_fn \u001b[39m=\u001b[39m likelihood(theta)\n\u001b[1;32m---> 56\u001b[0m     l \u001b[39m=\u001b[39m likelihood_fn\u001b[39m.\u001b[39mlog_prob(x) \u001b[39m+\u001b[39m prior\u001b[39m.\u001b[39;49mlog_prob(theta)\n\u001b[0;32m     58\u001b[0m     \u001b[39mreturn\u001b[39;00m l\u001b[39m.\u001b[39msqueeze()\n",
      "File \u001b[1;32mc:\\ProgramData\\Miniconda3\\lib\\site-packages\\torch\\distributions\\independent.py:91\u001b[0m, in \u001b[0;36mIndependent.log_prob\u001b[1;34m(self, value)\u001b[0m\n\u001b[0;32m     90\u001b[0m \u001b[39mdef\u001b[39;00m \u001b[39mlog_prob\u001b[39m(\u001b[39mself\u001b[39m, value):\n\u001b[1;32m---> 91\u001b[0m     log_prob \u001b[39m=\u001b[39m \u001b[39mself\u001b[39;49m\u001b[39m.\u001b[39;49mbase_dist\u001b[39m.\u001b[39;49mlog_prob(value)\n\u001b[0;32m     92\u001b[0m     \u001b[39mreturn\u001b[39;00m _sum_rightmost(log_prob, \u001b[39mself\u001b[39m\u001b[39m.\u001b[39mreinterpreted_batch_ndims)\n",
      "File \u001b[1;32mc:\\ProgramData\\Miniconda3\\lib\\site-packages\\torch\\distributions\\normal.py:73\u001b[0m, in \u001b[0;36mNormal.log_prob\u001b[1;34m(self, value)\u001b[0m\n\u001b[0;32m     71\u001b[0m \u001b[39mdef\u001b[39;00m \u001b[39mlog_prob\u001b[39m(\u001b[39mself\u001b[39m, value):\n\u001b[0;32m     72\u001b[0m     \u001b[39mif\u001b[39;00m \u001b[39mself\u001b[39m\u001b[39m.\u001b[39m_validate_args:\n\u001b[1;32m---> 73\u001b[0m         \u001b[39mself\u001b[39;49m\u001b[39m.\u001b[39;49m_validate_sample(value)\n\u001b[0;32m     74\u001b[0m     \u001b[39m# compute the variance\u001b[39;00m\n\u001b[0;32m     75\u001b[0m     var \u001b[39m=\u001b[39m (\u001b[39mself\u001b[39m\u001b[39m.\u001b[39mscale \u001b[39m*\u001b[39m\u001b[39m*\u001b[39m \u001b[39m2\u001b[39m)\n",
      "File \u001b[1;32mc:\\ProgramData\\Miniconda3\\lib\\site-packages\\torch\\distributions\\distribution.py:286\u001b[0m, in \u001b[0;36mDistribution._validate_sample\u001b[1;34m(self, value)\u001b[0m\n\u001b[0;32m    284\u001b[0m valid \u001b[39m=\u001b[39m support\u001b[39m.\u001b[39mcheck(value)\n\u001b[0;32m    285\u001b[0m \u001b[39mif\u001b[39;00m \u001b[39mnot\u001b[39;00m valid\u001b[39m.\u001b[39mall():\n\u001b[1;32m--> 286\u001b[0m     \u001b[39mraise\u001b[39;00m \u001b[39mValueError\u001b[39;00m(\n\u001b[0;32m    287\u001b[0m         \u001b[39m\"\u001b[39m\u001b[39mExpected value argument \u001b[39m\u001b[39m\"\u001b[39m\n\u001b[0;32m    288\u001b[0m         \u001b[39mf\u001b[39m\u001b[39m\"\u001b[39m\u001b[39m(\u001b[39m\u001b[39m{\u001b[39;00m\u001b[39mtype\u001b[39m(value)\u001b[39m.\u001b[39m\u001b[39m__name__\u001b[39m\u001b[39m}\u001b[39;00m\u001b[39m of shape \u001b[39m\u001b[39m{\u001b[39;00m\u001b[39mtuple\u001b[39m(value\u001b[39m.\u001b[39mshape)\u001b[39m}\u001b[39;00m\u001b[39m) \u001b[39m\u001b[39m\"\u001b[39m\n\u001b[0;32m    289\u001b[0m         \u001b[39mf\u001b[39m\u001b[39m\"\u001b[39m\u001b[39mto be within the support (\u001b[39m\u001b[39m{\u001b[39;00m\u001b[39mrepr\u001b[39m(support)\u001b[39m}\u001b[39;00m\u001b[39m) \u001b[39m\u001b[39m\"\u001b[39m\n\u001b[0;32m    290\u001b[0m         \u001b[39mf\u001b[39m\u001b[39m\"\u001b[39m\u001b[39mof the distribution \u001b[39m\u001b[39m{\u001b[39;00m\u001b[39mrepr\u001b[39m(\u001b[39mself\u001b[39m)\u001b[39m}\u001b[39;00m\u001b[39m, \u001b[39m\u001b[39m\"\u001b[39m\n\u001b[0;32m    291\u001b[0m         \u001b[39mf\u001b[39m\u001b[39m\"\u001b[39m\u001b[39mbut found invalid values:\u001b[39m\u001b[39m\\n\u001b[39;00m\u001b[39m{\u001b[39;00mvalue\u001b[39m}\u001b[39;00m\u001b[39m\"\u001b[39m\n\u001b[0;32m    292\u001b[0m     )\n",
      "\u001b[1;31mValueError\u001b[0m: Expected value argument (Tensor of shape (1, 100, 4)) to be within the support (Real()) of the distribution Normal(loc: torch.Size([4]), scale: torch.Size([4])), but found invalid values:\ntensor([[[nan, nan, nan, nan],\n         [nan, nan, nan, nan],\n         [nan, nan, nan, nan],\n         [nan, nan, nan, nan],\n         [nan, nan, nan, nan],\n         [nan, nan, nan, nan],\n         [nan, nan, nan, nan],\n         [nan, nan, nan, nan],\n         [nan, nan, nan, nan],\n         [nan, nan, nan, nan],\n         [nan, nan, nan, nan],\n         [nan, nan, nan, nan],\n         [nan, nan, nan, nan],\n         [nan, nan, nan, nan],\n         [nan, nan, nan, nan],\n         [nan, nan, nan, nan],\n         [nan, nan, nan, nan],\n         [nan, nan, nan, nan],\n         [nan, nan, nan, nan],\n         [nan, nan, nan, nan],\n         [nan, nan, nan, nan],\n         [nan, nan, nan, nan],\n         [nan, nan, nan, nan],\n         [nan, nan, nan, nan],\n         [nan, nan, nan, nan],\n         [nan, nan, nan, nan],\n         [nan, nan, nan, nan],\n         [nan, nan, nan, nan],\n         [nan, nan, nan, nan],\n         [nan, nan, nan, nan],\n         [nan, nan, nan, nan],\n         [nan, nan, nan, nan],\n         [nan, nan, nan, nan],\n         [nan, nan, nan, nan],\n         [nan, nan, nan, nan],\n         [nan, nan, nan, nan],\n         [nan, nan, nan, nan],\n         [nan, nan, nan, nan],\n         [nan, nan, nan, nan],\n         [nan, nan, nan, nan],\n         [nan, nan, nan, nan],\n         [nan, nan, nan, nan],\n         [nan, nan, nan, nan],\n         [nan, nan, nan, nan],\n         [nan, nan, nan, nan],\n         [nan, nan, nan, nan],\n         [nan, nan, nan, nan],\n         [nan, nan, nan, nan],\n         [nan, nan, nan, nan],\n         [nan, nan, nan, nan],\n         [nan, nan, nan, nan],\n         [nan, nan, nan, nan],\n         [nan, nan, nan, nan],\n         [nan, nan, nan, nan],\n         [nan, nan, nan, nan],\n         [nan, nan, nan, nan],\n         [nan, nan, nan, nan],\n         [nan, nan, nan, nan],\n         [nan, nan, nan, nan],\n         [nan, nan, nan, nan],\n         [nan, nan, nan, nan],\n         [nan, nan, nan, nan],\n         [nan, nan, nan, nan],\n         [nan, nan, nan, nan],\n         [nan, nan, nan, nan],\n         [nan, nan, nan, nan],\n         [nan, nan, nan, nan],\n         [nan, nan, nan, nan],\n         [nan, nan, nan, nan],\n         [nan, nan, nan, nan],\n         [nan, nan, nan, nan],\n         [nan, nan, nan, nan],\n         [nan, nan, nan, nan],\n         [nan, nan, nan, nan],\n         [nan, nan, nan, nan],\n         [nan, nan, nan, nan],\n         [nan, nan, nan, nan],\n         [nan, nan, nan, nan],\n         [nan, nan, nan, nan],\n         [nan, nan, nan, nan],\n         [nan, nan, nan, nan],\n         [nan, nan, nan, nan],\n         [nan, nan, nan, nan],\n         [nan, nan, nan, nan],\n         [nan, nan, nan, nan],\n         [nan, nan, nan, nan],\n         [nan, nan, nan, nan],\n         [nan, nan, nan, nan],\n         [nan, nan, nan, nan],\n         [nan, nan, nan, nan],\n         [nan, nan, nan, nan],\n         [nan, nan, nan, nan],\n         [nan, nan, nan, nan],\n         [nan, nan, nan, nan],\n         [nan, nan, nan, nan],\n         [nan, nan, nan, nan],\n         [nan, nan, nan, nan],\n         [nan, nan, nan, nan],\n         [nan, nan, nan, nan],\n         [nan, nan, nan, nan]]], grad_fn=<IndexSelectBackward0>)"
     ]
    }
   ],
   "source": [
    "optim = torch.optim.Adam(net.parameters(), lr=1e-9)\n",
    "for i in range(20):\n",
    "    for x, theta in train_loader:\n",
    "        optim.zero_grad()\n",
    "        l = loss_fn(x, theta)\n",
    "        l.backward()\n",
    "        optim.step()\n",
    "        torch.nn.utils.clip_grad_norm_(net.parameters(), 1.)\n",
    "        print(l)\n",
    "\n"
   ]
  }
 ],
 "metadata": {
  "kernelspec": {
   "display_name": "Python 3.9.5 ('base')",
   "language": "python",
   "name": "python3"
  },
  "language_info": {
   "codemirror_mode": {
    "name": "ipython",
    "version": 3
   },
   "file_extension": ".py",
   "mimetype": "text/x-python",
   "name": "python",
   "nbconvert_exporter": "python",
   "pygments_lexer": "ipython3",
   "version": "3.9.5"
  },
  "orig_nbformat": 4,
  "vscode": {
   "interpreter": {
    "hash": "19d1d53a962d236aa061289c2ac16dc8e6d9648c89fe79f459ae9a3493bc67b4"
   }
  }
 },
 "nbformat": 4,
 "nbformat_minor": 2
}
