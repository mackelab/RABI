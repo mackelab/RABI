{
 "cells": [
  {
   "cell_type": "code",
   "execution_count": 1,
   "metadata": {},
   "outputs": [],
   "source": [
    "\n",
    "import torch \n",
    "from torch import nn \n",
    "\n",
    "from rbi.utils.nets import generate_dense_net\n",
    "from rbi.utils.tasks import InferenceTask\n",
    "\n",
    "class ExchangableLinearLayer(nn.Module):\n",
    "    def __init__(self, input_dim, output_dim, output_dim_phi=100, aggregation_dim=1, aggregation_fn = torch.sum, hidden_dims=[50, 50], nonlinearity=nn.ReLU):\n",
    "        super().__init__()\n",
    "        self.aggregation_dim = aggregation_dim\n",
    "        self.phi = generate_dense_net(input_dim, output_dim=output_dim_phi, hidden_dims=hidden_dims, nonlinearity=nonlinearity, output_nonlinearity=nn.Identity())\n",
    "        self.g = generate_dense_net(output_dim_phi, output_dim, hidden_dims=hidden_dims, nonlinearity=nonlinearity, output_nonlinearity=nn.Identity())\n",
    "        self.aggregation_fn = aggregation_fn\n",
    "\n",
    "    def forward(self, x):\n",
    "        h = self.phi(x)\n",
    "        with torch.no_grad():\n",
    "            h = torch.nan_to_num(h, 0.)\n",
    "        out = self.aggregation_fn(h, axis=self.aggregation_dim)\n",
    "        out = self.g(out)\n",
    "        return out"
   ]
  },
  {
   "cell_type": "code",
   "execution_count": 8,
   "metadata": {},
   "outputs": [
    {
     "data": {
      "text/plain": [
       "nan"
      ]
     },
     "execution_count": 8,
     "metadata": {},
     "output_type": "execute_result"
    }
   ],
   "source": [
    "torch.nan"
   ]
  },
  {
   "cell_type": "code",
   "execution_count": 2,
   "metadata": {},
   "outputs": [],
   "source": [
    "from pyro.distributions import ConditionalDistribution"
   ]
  },
  {
   "cell_type": "code",
   "execution_count": 3,
   "metadata": {},
   "outputs": [],
   "source": [
    "class GLRTask(InferenceTask):\n",
    "    def __init__(self, feature_mapping, min_N=1, max_N = 100,x_bound=10, prior_mean=0., prior_scale=1., likelihood_scale=1.):\n",
    "        self.max_N = max_N\n",
    "        self.min_N = min_N\n",
    "        self.likelihood_scale = likelihood_scale\n",
    "        self.x_bound = x_bound\n",
    "        self.output_dim = feature_mapping(torch.randn((1, 1))).shape[-1]\n",
    "\n",
    "        self.feature_mapping = feature_mapping \n",
    "\n",
    "        prior = torch.distributions.Normal(prior_mean*torch.ones(self.output_dim), prior_scale*torch.ones(self.output_dim))\n",
    "\n",
    "        def simulator(theta, x=None):\n",
    "            if x is None:\n",
    "                x = self.generate_datasets_x(theta.shape[0])\n",
    "                \n",
    "            phi_x = self.feature_mapping(x).reshape(*x.shape[:-1], self.output_dim)\n",
    "            y = torch.einsum(\"ijd, id -> ij\", phi_x, theta)\n",
    "            y += torch.randn_like(y)*likelihood_scale\n",
    "            y = y.reshape(x.shape)\n",
    "            return torch.concat([phi_x,y], dim=-1)\n",
    "        \n",
    "        super().__init__(prior, None, simulator)\n",
    "\n",
    "    def get_true_posterior(self):\n",
    "        \n",
    "        class Posterior(ConditionalDistribution):\n",
    "            def condition(useless_self, context):\n",
    "                if len(context.shape) == 2:\n",
    "                    context = context.unsqueeze(0)\n",
    "\n",
    "                batch_shape = context.shape[0]\n",
    "                means = []\n",
    "                covs = []\n",
    "                for i in range(batch_shape):\n",
    "                    phi_x = context[i,...,:-1]\n",
    "                    y = context[i,...,-1]\n",
    "\n",
    "                    mask = torch.isfinite(y)\n",
    "\n",
    "                    phi_x = phi_x[mask]\n",
    "                    y = y[mask]\n",
    "\n",
    "\n",
    "                    c = phi_x@phi_x.T\n",
    "\n",
    "                    prior_mean = self.prior.mean \n",
    "                    prior_cov = torch.eye(prior_mean.shape[-1])*self.prior.variance \n",
    "\n",
    "                    likelihood_cov = torch.eye(c.shape[-1])*self.likelihood_scale**2\n",
    "\n",
    "                    c += likelihood_cov\n",
    "                    \n",
    "                    L_c = torch.cholesky(c)\n",
    "                    c_inv = torch.cholesky_inverse(L_c)\n",
    "\n",
    "\n",
    "\n",
    "                    post_m = prior_mean + prior_cov@phi_x.T@c_inv@(y - phi_x@prior_mean)\n",
    "                    post_cov = prior_cov - prior_cov@phi_x.T@c_inv@phi_x@prior_cov\n",
    "\n",
    "                    means.append(post_m.unsqueeze(0))\n",
    "                    covs.append(post_cov.unsqueeze(0))\n",
    "\n",
    "\n",
    "                return torch.distributions.MultivariateNormal(torch.stack(means), torch.stack(covs))\n",
    "            \n",
    "        return Posterior()\n",
    "\n",
    "    def generate_datasets_x(self, N):\n",
    "        if self.max_N > self.min_N:\n",
    "            Ns = torch.randint(1, self.max_N, (N,))\n",
    "            x = torch.rand((N, self.max_N,1))*2*self.x_bound - self.x_bound\n",
    "            for i in range(N):\n",
    "                x[i,Ns[i]:] = torch.nan\n",
    "            return x\n",
    "        else:\n",
    "            return torch.rand((N, self.min_N,1))*2*self.x_bound - self.x_bound\n",
    "        \n"
   ]
  },
  {
   "cell_type": "code",
   "execution_count": 273,
   "metadata": {},
   "outputs": [],
   "source": [
    "from rbi.utils.nets import MultivariateGaussianNet\n",
    "from rbi.loss.loss_fn import NLLLoss\n",
    "\n",
    "net = MultivariateGaussianNet(20, 2, hidden_dims=[200, 200],input_transform=ExchangableLinearLayer(3, 20, hidden_dims=[200, 200]))\n",
    "loss_fn = NLLLoss(net)\n"
   ]
  },
  {
   "cell_type": "code",
   "execution_count": 5,
   "metadata": {},
   "outputs": [],
   "source": [
    "def phi(x):\n",
    "    return torch.stack([torch.ones_like(x), x], dim=-1)"
   ]
  },
  {
   "cell_type": "code",
   "execution_count": 6,
   "metadata": {},
   "outputs": [],
   "source": [
    "task = GLRTask(phi, min_N=1,max_N=10, likelihood_scale=0.5, prior_scale=1.)\n",
    "simulator = task.get_simulator()\n",
    "prior = task.get_prior()\n",
    "\n",
    "trainloader, _,_ = task.get_train_test_val_dataset(100000, 1, 1, batch_size=1000)"
   ]
  },
  {
   "cell_type": "code",
   "execution_count": null,
   "metadata": {},
   "outputs": [],
   "source": [
    "def likelihood_fn(xy):\n",
    "    "
   ]
  },
  {
   "cell_type": "code",
   "execution_count": 279,
   "metadata": {},
   "outputs": [
    {
     "name": "stdout",
     "output_type": "stream",
     "text": [
      "tensor([-0.1757], grad_fn=<AddBackward0>)\n",
      "tensor([-0.1800], grad_fn=<AddBackward0>)\n",
      "tensor([-0.2220], grad_fn=<AddBackward0>)\n",
      "tensor([-0.2454], grad_fn=<AddBackward0>)\n",
      "tensor([-0.2927], grad_fn=<AddBackward0>)\n",
      "tensor([-0.2747], grad_fn=<AddBackward0>)\n",
      "tensor([-0.3373], grad_fn=<AddBackward0>)\n",
      "tensor([-0.3772], grad_fn=<AddBackward0>)\n",
      "tensor([-0.3643], grad_fn=<AddBackward0>)\n",
      "tensor([-0.4211], grad_fn=<AddBackward0>)\n",
      "tensor([-0.4197], grad_fn=<AddBackward0>)\n",
      "tensor([-0.4796], grad_fn=<AddBackward0>)\n",
      "tensor([-0.4151], grad_fn=<AddBackward0>)\n",
      "tensor([-0.4577], grad_fn=<AddBackward0>)\n",
      "tensor([-0.4778], grad_fn=<AddBackward0>)\n",
      "tensor([-0.4770], grad_fn=<AddBackward0>)\n",
      "tensor([-0.4696], grad_fn=<AddBackward0>)\n",
      "tensor([-0.5186], grad_fn=<AddBackward0>)\n",
      "tensor([-0.5160], grad_fn=<AddBackward0>)\n",
      "tensor([-0.5412], grad_fn=<AddBackward0>)\n",
      "tensor([-0.5737], grad_fn=<AddBackward0>)\n",
      "tensor([-0.5625], grad_fn=<AddBackward0>)\n",
      "tensor([-0.5495], grad_fn=<AddBackward0>)\n",
      "tensor([-0.5884], grad_fn=<AddBackward0>)\n",
      "tensor([-0.5468], grad_fn=<AddBackward0>)\n",
      "tensor([-0.5812], grad_fn=<AddBackward0>)\n",
      "tensor([-0.5941], grad_fn=<AddBackward0>)\n",
      "tensor([-0.5606], grad_fn=<AddBackward0>)\n",
      "tensor([-0.6161], grad_fn=<AddBackward0>)\n",
      "tensor([-0.6003], grad_fn=<AddBackward0>)\n",
      "tensor([-0.5980], grad_fn=<AddBackward0>)\n",
      "tensor([-0.6070], grad_fn=<AddBackward0>)\n",
      "tensor([-0.6345], grad_fn=<AddBackward0>)\n",
      "tensor([-0.6009], grad_fn=<AddBackward0>)\n"
     ]
    },
    {
     "ename": "KeyboardInterrupt",
     "evalue": "",
     "output_type": "error",
     "traceback": [
      "\u001b[1;31m---------------------------------------------------------------------------\u001b[0m",
      "\u001b[1;31mKeyboardInterrupt\u001b[0m                         Traceback (most recent call last)",
      "\u001b[1;32mc:\\Users\\manug\\OneDrive\\Uni\\PHD\\rbi\\examples\\generalized_linear_regression_task.ipynb Zelle 7\u001b[0m in \u001b[0;36m<cell line: 3>\u001b[1;34m()\u001b[0m\n\u001b[0;32m      <a href='vscode-notebook-cell:/c%3A/Users/manug/OneDrive/Uni/PHD/rbi/examples/generalized_linear_regression_task.ipynb#W5sZmlsZQ%3D%3D?line=1'>2</a>\u001b[0m loss_fn\u001b[39m.\u001b[39mtrain()\n\u001b[0;32m      <a href='vscode-notebook-cell:/c%3A/Users/manug/OneDrive/Uni/PHD/rbi/examples/generalized_linear_regression_task.ipynb#W5sZmlsZQ%3D%3D?line=2'>3</a>\u001b[0m \u001b[39mfor\u001b[39;00m i \u001b[39min\u001b[39;00m \u001b[39mrange\u001b[39m(\u001b[39m50\u001b[39m):\n\u001b[1;32m----> <a href='vscode-notebook-cell:/c%3A/Users/manug/OneDrive/Uni/PHD/rbi/examples/generalized_linear_regression_task.ipynb#W5sZmlsZQ%3D%3D?line=3'>4</a>\u001b[0m     trainloader, _,_ \u001b[39m=\u001b[39m task\u001b[39m.\u001b[39;49mget_train_test_val_dataset(\u001b[39m20000\u001b[39;49m, \u001b[39m1\u001b[39;49m, \u001b[39m1\u001b[39;49m, batch_size\u001b[39m=\u001b[39;49m\u001b[39m5000\u001b[39;49m)\n\u001b[0;32m      <a href='vscode-notebook-cell:/c%3A/Users/manug/OneDrive/Uni/PHD/rbi/examples/generalized_linear_regression_task.ipynb#W5sZmlsZQ%3D%3D?line=4'>5</a>\u001b[0m     \u001b[39mfor\u001b[39;00m x, theta \u001b[39min\u001b[39;00m trainloader:\n\u001b[0;32m      <a href='vscode-notebook-cell:/c%3A/Users/manug/OneDrive/Uni/PHD/rbi/examples/generalized_linear_regression_task.ipynb#W5sZmlsZQ%3D%3D?line=5'>6</a>\u001b[0m         optim\u001b[39m.\u001b[39mzero_grad()\n",
      "File \u001b[1;32mc:\\users\\manug\\onedrive\\uni\\phd\\rbi\\rbi\\utils\\tasks.py:23\u001b[0m, in \u001b[0;36mget_train_test_val_dataset\u001b[1;34m(self, N_train, N_test, N_val, shuffle, batch_size)\u001b[0m\n\u001b[0;32m     21\u001b[0m \u001b[39m@abstractmethod\u001b[39m\n\u001b[0;32m     22\u001b[0m \u001b[39mdef\u001b[39;00m \u001b[39mget_train_test_val_dataset\u001b[39m(\u001b[39mself\u001b[39m, N_train, N_test, N_val, shuffle\u001b[39m=\u001b[39m\u001b[39mTrue\u001b[39;00m, batch_size \u001b[39m=\u001b[39m \u001b[39m512\u001b[39m):\n\u001b[1;32m---> 23\u001b[0m     generator \u001b[39m=\u001b[39m \u001b[39mself\u001b[39m\u001b[39m.\u001b[39mget_generator()\n\u001b[0;32m     24\u001b[0m     train_loader, test_loader, val_loader \u001b[39m=\u001b[39m get_dataset_by_generator(generator, N_train, N_test, N_val, shuffle\u001b[39m=\u001b[39mshuffle, batch_size\u001b[39m=\u001b[39mbatch_size)\n\u001b[0;32m     25\u001b[0m     \u001b[39mreturn\u001b[39;00m train_loader, test_loader, val_loader\n",
      "File \u001b[1;32mc:\\users\\manug\\onedrive\\uni\\phd\\rbi\\rbi\\utils\\datasets.py:68\u001b[0m, in \u001b[0;36mget_dataset_by_generator\u001b[1;34m(generator, N_train, N_test, N_val, shuffle, batch_size)\u001b[0m\n\u001b[0;32m     66\u001b[0m     N_val \u001b[39m=\u001b[39m \u001b[39m0\u001b[39m\n\u001b[0;32m     67\u001b[0m N \u001b[39m=\u001b[39m N_train \u001b[39m+\u001b[39m N_test \u001b[39m+\u001b[39m N_val\n\u001b[1;32m---> 68\u001b[0m X, y \u001b[39m=\u001b[39m generator(N)\n\u001b[0;32m     69\u001b[0m train_data \u001b[39m=\u001b[39m []\n\u001b[0;32m     70\u001b[0m \u001b[39mfor\u001b[39;00m i \u001b[39min\u001b[39;00m \u001b[39mrange\u001b[39m(N_train):\n",
      "File \u001b[1;32mc:\\users\\manug\\onedrive\\uni\\phd\\rbi\\rbi\\utils\\tasks.py:83\u001b[0m, in \u001b[0;36mgenerator\u001b[1;34m(N)\u001b[0m\n\u001b[0;32m     82\u001b[0m \u001b[39mdef\u001b[39;00m \u001b[39mgenerator\u001b[39m(N):\n\u001b[1;32m---> 83\u001b[0m     thetas \u001b[39m=\u001b[39m prior\u001b[39m.\u001b[39msample((N,))\n\u001b[0;32m     84\u001b[0m     x \u001b[39m=\u001b[39m simulator(thetas)\n\u001b[0;32m     85\u001b[0m     \u001b[39mreturn\u001b[39;00m x, thetas\n",
      "\u001b[1;32mc:\\Users\\manug\\OneDrive\\Uni\\PHD\\rbi\\examples\\generalized_linear_regression_task.ipynb Zelle 7\u001b[0m in \u001b[0;36mGLRTask.__init__.<locals>.simulator\u001b[1;34m(theta, x)\u001b[0m\n\u001b[0;32m     <a href='vscode-notebook-cell:/c%3A/Users/manug/OneDrive/Uni/PHD/rbi/examples/generalized_linear_regression_task.ipynb#W5sZmlsZQ%3D%3D?line=12'>13</a>\u001b[0m \u001b[39mdef\u001b[39;00m \u001b[39msimulator\u001b[39m(theta, x\u001b[39m=\u001b[39m\u001b[39mNone\u001b[39;00m):\n\u001b[0;32m     <a href='vscode-notebook-cell:/c%3A/Users/manug/OneDrive/Uni/PHD/rbi/examples/generalized_linear_regression_task.ipynb#W5sZmlsZQ%3D%3D?line=13'>14</a>\u001b[0m     \u001b[39mif\u001b[39;00m x \u001b[39mis\u001b[39;00m \u001b[39mNone\u001b[39;00m:\n\u001b[1;32m---> <a href='vscode-notebook-cell:/c%3A/Users/manug/OneDrive/Uni/PHD/rbi/examples/generalized_linear_regression_task.ipynb#W5sZmlsZQ%3D%3D?line=14'>15</a>\u001b[0m         x \u001b[39m=\u001b[39m \u001b[39mself\u001b[39;49m\u001b[39m.\u001b[39;49mgenerate_datasets_x(theta\u001b[39m.\u001b[39;49mshape[\u001b[39m0\u001b[39;49m])\n\u001b[0;32m     <a href='vscode-notebook-cell:/c%3A/Users/manug/OneDrive/Uni/PHD/rbi/examples/generalized_linear_regression_task.ipynb#W5sZmlsZQ%3D%3D?line=16'>17</a>\u001b[0m     phi_x \u001b[39m=\u001b[39m \u001b[39mself\u001b[39m\u001b[39m.\u001b[39mfeature_mapping(x)\u001b[39m.\u001b[39mreshape(\u001b[39m*\u001b[39mx\u001b[39m.\u001b[39mshape[:\u001b[39m-\u001b[39m\u001b[39m1\u001b[39m], \u001b[39mself\u001b[39m\u001b[39m.\u001b[39moutput_dim)\n\u001b[0;32m     <a href='vscode-notebook-cell:/c%3A/Users/manug/OneDrive/Uni/PHD/rbi/examples/generalized_linear_regression_task.ipynb#W5sZmlsZQ%3D%3D?line=17'>18</a>\u001b[0m     y \u001b[39m=\u001b[39m torch\u001b[39m.\u001b[39meinsum(\u001b[39m\"\u001b[39m\u001b[39mijd, id -> ij\u001b[39m\u001b[39m\"\u001b[39m, phi_x, theta)\n",
      "\u001b[1;32mc:\\Users\\manug\\OneDrive\\Uni\\PHD\\rbi\\examples\\generalized_linear_regression_task.ipynb Zelle 7\u001b[0m in \u001b[0;36mGLRTask.generate_datasets_x\u001b[1;34m(self, N)\u001b[0m\n\u001b[0;32m     <a href='vscode-notebook-cell:/c%3A/Users/manug/OneDrive/Uni/PHD/rbi/examples/generalized_linear_regression_task.ipynb#W5sZmlsZQ%3D%3D?line=73'>74</a>\u001b[0m     x \u001b[39m=\u001b[39m torch\u001b[39m.\u001b[39mrand((N, \u001b[39mself\u001b[39m\u001b[39m.\u001b[39mmax_N,\u001b[39m1\u001b[39m))\u001b[39m*\u001b[39m\u001b[39m2\u001b[39m\u001b[39m*\u001b[39m\u001b[39mself\u001b[39m\u001b[39m.\u001b[39mx_bound \u001b[39m-\u001b[39m \u001b[39mself\u001b[39m\u001b[39m.\u001b[39mx_bound\n\u001b[0;32m     <a href='vscode-notebook-cell:/c%3A/Users/manug/OneDrive/Uni/PHD/rbi/examples/generalized_linear_regression_task.ipynb#W5sZmlsZQ%3D%3D?line=74'>75</a>\u001b[0m     \u001b[39mfor\u001b[39;00m i \u001b[39min\u001b[39;00m \u001b[39mrange\u001b[39m(N):\n\u001b[1;32m---> <a href='vscode-notebook-cell:/c%3A/Users/manug/OneDrive/Uni/PHD/rbi/examples/generalized_linear_regression_task.ipynb#W5sZmlsZQ%3D%3D?line=75'>76</a>\u001b[0m         x[i,Ns[i]:] \u001b[39m=\u001b[39m torch\u001b[39m.\u001b[39mnan\n\u001b[0;32m     <a href='vscode-notebook-cell:/c%3A/Users/manug/OneDrive/Uni/PHD/rbi/examples/generalized_linear_regression_task.ipynb#W5sZmlsZQ%3D%3D?line=76'>77</a>\u001b[0m     \u001b[39mreturn\u001b[39;00m x\n\u001b[0;32m     <a href='vscode-notebook-cell:/c%3A/Users/manug/OneDrive/Uni/PHD/rbi/examples/generalized_linear_regression_task.ipynb#W5sZmlsZQ%3D%3D?line=77'>78</a>\u001b[0m \u001b[39melse\u001b[39;00m:\n",
      "\u001b[1;31mKeyboardInterrupt\u001b[0m: "
     ]
    }
   ],
   "source": [
    "optim = torch.optim.Adam(net.parameters(), lr=1e-4)\n",
    "loss_fn.train()\n",
    "for i in range(50):\n",
    "    trainloader, _,_ = task.get_train_test_val_dataset(20000, 1, 1, batch_size=5000)\n",
    "    for x, theta in trainloader:\n",
    "        optim.zero_grad()\n",
    "        l = loss_fn(x, theta)\n",
    "        l.backward()\n",
    "        optim.step()\n",
    "    print(l)\n",
    "        "
   ]
  },
  {
   "cell_type": "code",
   "execution_count": 280,
   "metadata": {},
   "outputs": [
    {
     "data": {
      "text/plain": [
       "tensor([[ 0.1693, -0.8984]])"
      ]
     },
     "execution_count": 280,
     "metadata": {},
     "output_type": "execute_result"
    }
   ],
   "source": [
    " \n",
    "\n",
    "theta = prior.sample((1,))\n",
    "theta"
   ]
  },
  {
   "cell_type": "code",
   "execution_count": 284,
   "metadata": {},
   "outputs": [],
   "source": [
    "x = torch.rand((1,4,1))*20-10\n",
    "xy = simulator(theta, x=x)"
   ]
  },
  {
   "cell_type": "code",
   "execution_count": 285,
   "metadata": {},
   "outputs": [
    {
     "data": {
      "text/plain": [
       "torch.Size([1, 10, 1])"
      ]
     },
     "execution_count": 285,
     "metadata": {},
     "output_type": "execute_result"
    }
   ],
   "source": [
    "task.generate_datasets_x(1).shape"
   ]
  },
  {
   "cell_type": "code",
   "execution_count": 286,
   "metadata": {},
   "outputs": [],
   "source": [
    "xy = xy.squeeze()"
   ]
  },
  {
   "cell_type": "code",
   "execution_count": 287,
   "metadata": {},
   "outputs": [],
   "source": [
    "import matplotlib.pyplot as plt"
   ]
  },
  {
   "cell_type": "code",
   "execution_count": 288,
   "metadata": {},
   "outputs": [
    {
     "data": {
      "text/plain": [
       "[<matplotlib.lines.Line2D at 0x16f649a67f0>]"
      ]
     },
     "execution_count": 288,
     "metadata": {},
     "output_type": "execute_result"
    },
    {
     "data": {
      "image/png": "[encoded data removed]",
      "text/plain": [
       "<Figure size 432x288 with 1 Axes>"
      ]
     },
     "metadata": {
      "needs_background": "light"
     },
     "output_type": "display_data"
    }
   ],
   "source": [
    "plt.plot(xy[...,1], xy[...,-1], \".\")"
   ]
  },
  {
   "cell_type": "code",
   "execution_count": 289,
   "metadata": {},
   "outputs": [],
   "source": [
    "q = net(xy.unsqueeze(0))"
   ]
  },
  {
   "cell_type": "code",
   "execution_count": 313,
   "metadata": {},
   "outputs": [],
   "source": [
    "phi_x = xy[...,:-1]\n",
    "y = xy[...,-1]"
   ]
  },
  {
   "cell_type": "code",
   "execution_count": 315,
   "metadata": {},
   "outputs": [],
   "source": [
    "c = phi_x@phi_x.T\n",
    "\n",
    "prior_mean = task.prior.mean \n",
    "prior_cov = torch.eye(prior.mean.shape[-1])*task.prior.variance \n",
    "\n",
    "likelihood_cov = torch.eye(c.shape[-1])*task.likelihood_scale**2\n",
    "\n",
    "c = c + likelihood_cov\n",
    "L_c = torch.cholesky(c)\n",
    "inv_c = torch.cholesky_inverse(L_c)\n",
    "\n",
    "post_m = task.prior.mean + prior_cov@phi_x.T@inv_c@(y - phi_x@task.prior.mean)\n",
    "post_cov = prior_cov - prior_cov@phi_x.T@inv_c@phi_x@prior_cov\n",
    "\n",
    "p_true = torch.distributions.MultivariateNormal(post_m, post_cov + torch.eye(2)*0.001)\n",
    "\n",
    "#p_true = task.get_true_posterior().condition(xy)"
   ]
  },
  {
   "cell_type": "code",
   "execution_count": 326,
   "metadata": {},
   "outputs": [],
   "source": [
    "p_true = task.get_true_posterior().condition(xy)"
   ]
  },
  {
   "cell_type": "code",
   "execution_count": 327,
   "metadata": {},
   "outputs": [
    {
     "data": {
      "text/plain": [
       "tensor([[[[5.8827e-02, 9.7270e-05],\n",
       "          [9.8050e-05, 2.7025e-03]]]])"
      ]
     },
     "execution_count": 327,
     "metadata": {},
     "output_type": "execute_result"
    }
   ],
   "source": [
    "p_true.covariance_matrix"
   ]
  },
  {
   "cell_type": "code",
   "execution_count": 308,
   "metadata": {},
   "outputs": [
    {
     "data": {
      "text/plain": [
       "tensor([[5.8826e-02, 9.7124e-05],\n",
       "        [9.7007e-05, 2.7096e-03]])"
      ]
     },
     "execution_count": 308,
     "metadata": {},
     "output_type": "execute_result"
    }
   ],
   "source": [
    "post_cov"
   ]
  },
  {
   "cell_type": "code",
   "execution_count": 329,
   "metadata": {},
   "outputs": [],
   "source": [
    "samples = q.sample((10000,))\n",
    "samples2 = p_true.sample((10000,))"
   ]
  },
  {
   "cell_type": "code",
   "execution_count": 330,
   "metadata": {},
   "outputs": [
    {
     "name": "stderr",
     "output_type": "stream",
     "text": [
      "c:\\ProgramData\\Miniconda3\\lib\\site-packages\\sbi\\analysis\\plot.py:413: UserWarning: No contour levels were found within the data range.\n",
      "  plt.contour(\n"
     ]
    },
    {
     "data": {
      "text/plain": [
       "(<Figure size 720x720 with 4 Axes>,\n",
       " array([[<AxesSubplot:xlabel='dim 1'>, <AxesSubplot:>],\n",
       "        [<AxesSubplot:>, <AxesSubplot:xlabel='dim 2'>]], dtype=object))"
      ]
     },
     "execution_count": 330,
     "metadata": {},
     "output_type": "execute_result"
    },
    {
     "data": {
      "image/png": "[encoded data removed]",
      "text/plain": [
       "<Figure size 720x720 with 4 Axes>"
      ]
     },
     "metadata": {
      "needs_background": "light"
     },
     "output_type": "display_data"
    }
   ],
   "source": [
    "from sbi.analysis import pairplot\n",
    "\n",
    "pairplot([samples.squeeze(), samples2.squeeze()], points=theta, upper=\"contour\")"
   ]
  },
  {
   "cell_type": "code",
   "execution_count": 355,
   "metadata": {},
   "outputs": [
    {
     "data": {
      "text/plain": [
       "torch.Size([2])"
      ]
     },
     "execution_count": 355,
     "metadata": {},
     "output_type": "execute_result"
    }
   ],
   "source": [
    "y.shape"
   ]
  },
  {
   "cell_type": "code",
   "execution_count": 105,
   "metadata": {},
   "outputs": [],
   "source": [
    "x_lin = torch.linspace(-10, 10, 1000).reshape(1,-1,1).repeat(100, 1, 1)\n",
    "yyy = simulator(q.sample((100,)).squeeze(), x_lin).squeeze()[...,-1]"
   ]
  },
  {
   "cell_type": "code",
   "execution_count": 107,
   "metadata": {},
   "outputs": [],
   "source": [
    "x_lin = torch.linspace(-10, 10, 1000).reshape(1,-1,1).repeat(100, 1, 1)\n",
    "yyy = simulator(p_true.sample((100,)).squeeze(), x_lin).squeeze()[...,-1]"
   ]
  },
  {
   "cell_type": "code",
   "execution_count": 108,
   "metadata": {},
   "outputs": [
    {
     "data": {
      "text/plain": [
       "[<matplotlib.lines.Line2D at 0x16f543040a0>]"
      ]
     },
     "execution_count": 108,
     "metadata": {},
     "output_type": "execute_result"
    },
    {
     "data": {
      "image/png": "[encoded data removed]",
      "text/plain": [
       "<Figure size 432x288 with 1 Axes>"
      ]
     },
     "metadata": {
      "needs_background": "light"
     },
     "output_type": "display_data"
    }
   ],
   "source": [
    "for x_i, y_i in zip(x_lin, yyy):\n",
    "    plt.plot(x_i.flatten(), y_i.flatten(), color=\"C0\", alpha=0.1)\n",
    "\n",
    "plt.plot(xy[...,1], xy[...,-1] , \"o\", color=\"red\")"
   ]
  },
  {
   "cell_type": "code",
   "execution_count": 122,
   "metadata": {},
   "outputs": [],
   "source": [
    "x = torch.linspace(-5, 5, 100).reshape(-1, 1)\n",
    "\n",
    "feature_mapping = lambda x: torch.hstack([torch.ones_like(x), x, x**2, x**3])\n",
    "\n",
    "phi_x = feature_mapping(x)\n",
    "\n",
    "w = torch.randn(10,4)"
   ]
  },
  {
   "cell_type": "code",
   "execution_count": 140,
   "metadata": {},
   "outputs": [
    {
     "data": {
      "text/plain": [
       "tensor([[2., 2., nan],\n",
       "        [2., 2., 2.]])"
      ]
     },
     "execution_count": 140,
     "metadata": {},
     "output_type": "execute_result"
    }
   ],
   "source": [
    "torch.tensor([[2.,2., torch.nan], [2.,2.,2.]])"
   ]
  },
  {
   "cell_type": "code",
   "execution_count": null,
   "metadata": {},
   "outputs": [],
   "source": [
    "def simulator()"
   ]
  },
  {
   "cell_type": "code",
   "execution_count": 123,
   "metadata": {},
   "outputs": [],
   "source": [
    "import matplotlib.pyplot as plt"
   ]
  },
  {
   "cell_type": "code",
   "execution_count": 127,
   "metadata": {},
   "outputs": [
    {
     "data": {
      "text/plain": [
       "torch.Size([100, 10])"
      ]
     },
     "execution_count": 127,
     "metadata": {},
     "output_type": "execute_result"
    }
   ],
   "source": [
    "(phi_x@w.T).shape"
   ]
  },
  {
   "cell_type": "code",
   "execution_count": 125,
   "metadata": {},
   "outputs": [
    {
     "data": {
      "text/plain": [
       "[<matplotlib.lines.Line2D at 0x27477b59b20>,\n",
       " <matplotlib.lines.Line2D at 0x27477a31d60>,\n",
       " <matplotlib.lines.Line2D at 0x27477aafc70>,\n",
       " <matplotlib.lines.Line2D at 0x27477b59b80>,\n",
       " <matplotlib.lines.Line2D at 0x27477b59cd0>,\n",
       " <matplotlib.lines.Line2D at 0x27477b59dc0>,\n",
       " <matplotlib.lines.Line2D at 0x27477b59ee0>,\n",
       " <matplotlib.lines.Line2D at 0x27477b80040>,\n",
       " <matplotlib.lines.Line2D at 0x27477b80160>,\n",
       " <matplotlib.lines.Line2D at 0x27477b80280>]"
      ]
     },
     "execution_count": 125,
     "metadata": {},
     "output_type": "execute_result"
    },
    {
     "data": {
      "image/png": "[encoded data removed]",
      "text/plain": [
       "<Figure size 432x288 with 1 Axes>"
      ]
     },
     "metadata": {
      "needs_background": "light"
     },
     "output_type": "display_data"
    }
   ],
   "source": [
    "plt.plot(phi_x@w.T)"
   ]
  },
  {
   "cell_type": "code",
   "execution_count": null,
   "metadata": {},
   "outputs": [],
   "source": []
  }
 ],
 "metadata": {
  "kernelspec": {
   "display_name": "Python 3.9.5 ('base')",
   "language": "python",
   "name": "python3"
  },
  "language_info": {
   "codemirror_mode": {
    "name": "ipython",
    "version": 3
   },
   "file_extension": ".py",
   "mimetype": "text/x-python",
   "name": "python",
   "nbconvert_exporter": "python",
   "pygments_lexer": "ipython3",
   "version": "3.9.5"
  },
  "orig_nbformat": 4,
  "vscode": {
   "interpreter": {
    "hash": "19d1d53a962d236aa061289c2ac16dc8e6d9648c89fe79f459ae9a3493bc67b4"
   }
  }
 },
 "nbformat": 4,
 "nbformat_minor": 2
}
